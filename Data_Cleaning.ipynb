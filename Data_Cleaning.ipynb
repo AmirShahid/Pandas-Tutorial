{
 "cells": [
  {
   "cell_type": "markdown",
   "source": [
    "# Data Cleaning\n",
    "\n",
    "\n",
    "## Introduction\n",
    "Greetings from the Machine Learning Team.\n",
    "This is a qrash course about the most popular Data Analysis python library.\n",
    "\n"
   ],
   "metadata": {
    "collapsed": false,
    "pycharm": {
     "name": "#%% md\n"
    }
   }
  },
  {
   "cell_type": "markdown",
   "source": [
    "## Getting Started\n",
    "To use pandas, you'll need to import it after installing from conda or pip."
   ],
   "metadata": {
    "collapsed": false
   }
  },
  {
   "cell_type": "code",
   "execution_count": 3,
   "outputs": [],
   "source": [
    "import pandas as pd"
   ],
   "metadata": {
    "collapsed": false,
    "pycharm": {
     "name": "#%%\n"
    }
   }
  },
  {
   "cell_type": "markdown",
   "source": [
    "There are two core objects in pandas: the DataFrame and the Series.\n",
    "### 1. DataFrame\n",
    "A DataFrame is a table. It contains an array of individual entries, each of which has a certain value. Each entry corresponds to a row (or record) and a column.\n",
    "\n",
    "<p align=\"center\">\n",
    "   <img src=\"https://pandas.pydata.org/docs/_images/01_table_dataframe.svg\"/>\n",
    "</p>"
   ],
   "metadata": {
    "collapsed": false
   }
  },
  {
   "cell_type": "code",
   "execution_count": 8,
   "outputs": [
    {
     "data": {
      "text/plain": "  Tehran        Shiraz     Ahwaz\n0  Rainy  Partly Sunny  Sunshine\n1   Hazy        Cloudy     Sunny",
      "text/html": "<div>\n<style scoped>\n    .dataframe tbody tr th:only-of-type {\n        vertical-align: middle;\n    }\n\n    .dataframe tbody tr th {\n        vertical-align: top;\n    }\n\n    .dataframe thead th {\n        text-align: right;\n    }\n</style>\n<table border=\"1\" class=\"dataframe\">\n  <thead>\n    <tr style=\"text-align: right;\">\n      <th></th>\n      <th>Tehran</th>\n      <th>Shiraz</th>\n      <th>Ahwaz</th>\n    </tr>\n  </thead>\n  <tbody>\n    <tr>\n      <th>0</th>\n      <td>Rainy</td>\n      <td>Partly Sunny</td>\n      <td>Sunshine</td>\n    </tr>\n    <tr>\n      <th>1</th>\n      <td>Hazy</td>\n      <td>Cloudy</td>\n      <td>Sunny</td>\n    </tr>\n  </tbody>\n</table>\n</div>"
     },
     "execution_count": 8,
     "metadata": {},
     "output_type": "execute_result"
    }
   ],
   "source": [
    "pd.DataFrame({'Tehran': ['Rainy', 'Hazy'], 'Shiraz': ['Partly Sunny', 'Cloudy'], 'Ahwaz': ['Sunshine', 'Sunny']})"
   ],
   "metadata": {
    "collapsed": false,
    "pycharm": {
     "name": "#%%\n"
    }
   }
  },
  {
   "cell_type": "markdown",
   "source": [
    "The syntax for declaring a new DataFrame is a dictionary whose keys are the column names (Tehran and Shiraz and Ahwaz in this example), and whose values are a list of entries.\n",
    "to assign values to column labels we can use the below overload:"
   ],
   "metadata": {
    "collapsed": false,
    "pycharm": {
     "name": "#%% md\n"
    }
   }
  },
  {
   "cell_type": "code",
   "execution_count": 20,
   "outputs": [
    {
     "data": {
      "text/plain": "         Tehran        Shiraz     Ahwaz\n99/08/05  Rainy  Partly Sunny  Sunshine\n99/08/06   Hazy        Cloudy     Sunny",
      "text/html": "<div>\n<style scoped>\n    .dataframe tbody tr th:only-of-type {\n        vertical-align: middle;\n    }\n\n    .dataframe tbody tr th {\n        vertical-align: top;\n    }\n\n    .dataframe thead th {\n        text-align: right;\n    }\n</style>\n<table border=\"1\" class=\"dataframe\">\n  <thead>\n    <tr style=\"text-align: right;\">\n      <th></th>\n      <th>Tehran</th>\n      <th>Shiraz</th>\n      <th>Ahwaz</th>\n    </tr>\n  </thead>\n  <tbody>\n    <tr>\n      <th>99/08/05</th>\n      <td>Rainy</td>\n      <td>Partly Sunny</td>\n      <td>Sunshine</td>\n    </tr>\n    <tr>\n      <th>99/08/06</th>\n      <td>Hazy</td>\n      <td>Cloudy</td>\n      <td>Sunny</td>\n    </tr>\n  </tbody>\n</table>\n</div>"
     },
     "execution_count": 20,
     "metadata": {},
     "output_type": "execute_result"
    }
   ],
   "source": [
    "pd.DataFrame({'Tehran': ['Rainy', 'Hazy'], 'Shiraz': ['Partly Sunny', 'Cloudy'], 'Ahwaz': ['Sunshine', 'Sunny']},index = ['99/08/05','99/08/06'])"
   ],
   "metadata": {
    "collapsed": false,
    "pycharm": {
     "name": "#%%\n"
    }
   }
  },
  {
   "cell_type": "markdown",
   "source": [
    "### 2. Series\n",
    "A Series, by contrast, is a sequence of data values. If a DataFrame is a table, a Series is a list. And in fact you can create one with nothing more than a list:"
   ],
   "metadata": {
    "collapsed": false,
    "pycharm": {
     "name": "#%% md\n"
    }
   }
  },
  {
   "cell_type": "code",
   "execution_count": 12,
   "outputs": [
    {
     "data": {
      "text/plain": "0    Tehran\n1    Shiraz\n2     Ahwaz\ndtype: object"
     },
     "execution_count": 12,
     "metadata": {},
     "output_type": "execute_result"
    }
   ],
   "source": [
    "pd.Series(['Tehran', 'Shiraz', 'Ahwaz'])"
   ],
   "metadata": {
    "collapsed": false,
    "pycharm": {
     "name": "#%%\n"
    }
   }
  },
  {
   "cell_type": "markdown",
   "source": [
    "## Reading Data Files\n",
    "Most of the time, we won't actually be creating our own data by hand. Instead, we'll be working with data that already exists.\n",
    "<p align=\"center\">\n",
    "   <img src=\"https://pandas.pydata.org/docs/_images/02_io_readwrite.svg\"/>\n",
    "</p>\n",
    "Now, we want to work with a Comma-Seperated Values (csv) file. this is how to read a csv:"
   ],
   "metadata": {
    "collapsed": false,
    "pycharm": {
     "name": "#%% md\n"
    }
   }
  },
  {
   "cell_type": "code",
   "execution_count": 18,
   "outputs": [
    {
     "data": {
      "text/plain": "      dateRep  day  month  year  cases  deaths countriesAndTerritories geoId  \\\n0  07/09/2020    7      9  2020     74       2             Afghanistan    AF   \n1  06/09/2020    6      9  2020     20       0             Afghanistan    AF   \n2  05/09/2020    5      9  2020     16       0             Afghanistan    AF   \n3  04/09/2020    4      9  2020     45       1             Afghanistan    AF   \n4  03/09/2020    3      9  2020     38       3             Afghanistan    AF   \n\n  countryterritoryCode  popData2019 continentExp  \\\n0                  AFG   38041757.0         Asia   \n1                  AFG   38041757.0         Asia   \n2                  AFG   38041757.0         Asia   \n3                  AFG   38041757.0         Asia   \n4                  AFG   38041757.0         Asia   \n\n   Cumulative_number_for_14_days_of_COVID-19_cases_per_100000  \n0                                           1.048847           \n1                                           0.854324           \n2                                           1.077763           \n3                                           1.135594           \n4                                           1.272286           ",
      "text/html": "<div>\n<style scoped>\n    .dataframe tbody tr th:only-of-type {\n        vertical-align: middle;\n    }\n\n    .dataframe tbody tr th {\n        vertical-align: top;\n    }\n\n    .dataframe thead th {\n        text-align: right;\n    }\n</style>\n<table border=\"1\" class=\"dataframe\">\n  <thead>\n    <tr style=\"text-align: right;\">\n      <th></th>\n      <th>dateRep</th>\n      <th>day</th>\n      <th>month</th>\n      <th>year</th>\n      <th>cases</th>\n      <th>deaths</th>\n      <th>countriesAndTerritories</th>\n      <th>geoId</th>\n      <th>countryterritoryCode</th>\n      <th>popData2019</th>\n      <th>continentExp</th>\n      <th>Cumulative_number_for_14_days_of_COVID-19_cases_per_100000</th>\n    </tr>\n  </thead>\n  <tbody>\n    <tr>\n      <th>0</th>\n      <td>07/09/2020</td>\n      <td>7</td>\n      <td>9</td>\n      <td>2020</td>\n      <td>74</td>\n      <td>2</td>\n      <td>Afghanistan</td>\n      <td>AF</td>\n      <td>AFG</td>\n      <td>38041757.0</td>\n      <td>Asia</td>\n      <td>1.048847</td>\n    </tr>\n    <tr>\n      <th>1</th>\n      <td>06/09/2020</td>\n      <td>6</td>\n      <td>9</td>\n      <td>2020</td>\n      <td>20</td>\n      <td>0</td>\n      <td>Afghanistan</td>\n      <td>AF</td>\n      <td>AFG</td>\n      <td>38041757.0</td>\n      <td>Asia</td>\n      <td>0.854324</td>\n    </tr>\n    <tr>\n      <th>2</th>\n      <td>05/09/2020</td>\n      <td>5</td>\n      <td>9</td>\n      <td>2020</td>\n      <td>16</td>\n      <td>0</td>\n      <td>Afghanistan</td>\n      <td>AF</td>\n      <td>AFG</td>\n      <td>38041757.0</td>\n      <td>Asia</td>\n      <td>1.077763</td>\n    </tr>\n    <tr>\n      <th>3</th>\n      <td>04/09/2020</td>\n      <td>4</td>\n      <td>9</td>\n      <td>2020</td>\n      <td>45</td>\n      <td>1</td>\n      <td>Afghanistan</td>\n      <td>AF</td>\n      <td>AFG</td>\n      <td>38041757.0</td>\n      <td>Asia</td>\n      <td>1.135594</td>\n    </tr>\n    <tr>\n      <th>4</th>\n      <td>03/09/2020</td>\n      <td>3</td>\n      <td>9</td>\n      <td>2020</td>\n      <td>38</td>\n      <td>3</td>\n      <td>Afghanistan</td>\n      <td>AF</td>\n      <td>AFG</td>\n      <td>38041757.0</td>\n      <td>Asia</td>\n      <td>1.272286</td>\n    </tr>\n  </tbody>\n</table>\n</div>"
     },
     "execution_count": 18,
     "metadata": {},
     "output_type": "execute_result"
    }
   ],
   "source": [
    "covid_dataset = pd.read_csv(\"COVID-19-Case-Distribution.csv\")\n",
    "covid_dataset.head()"
   ],
   "metadata": {
    "collapsed": false,
    "pycharm": {
     "name": "#%%\n"
    }
   }
  },
  {
   "cell_type": "markdown",
   "source": [
    "We can use the shape attribute to check how large the resulting DataFrame is:"
   ],
   "metadata": {
    "collapsed": false
   }
  },
  {
   "cell_type": "code",
   "execution_count": 19,
   "outputs": [
    {
     "data": {
      "text/plain": "(41210, 12)"
     },
     "execution_count": 19,
     "metadata": {},
     "output_type": "execute_result"
    }
   ],
   "source": [
    "covid_dataset.shape"
   ],
   "metadata": {
    "collapsed": false,
    "pycharm": {
     "name": "#%%\n"
    }
   }
  },
  {
   "cell_type": "markdown",
   "source": [
    "So our Covid-19 DataFrame has 41,210 records split across 12 different columns."
   ],
   "metadata": {
    "collapsed": false
   }
  },
  {
   "cell_type": "markdown",
   "source": [
    "## Dtypes\n",
    "Data types tell us something about how pandas is storing the data internally. float64 means that it's using a 64-bit floating point number; int64 means a similarly sized integer instead, and so on.\n",
    "You can use the dtype property to grab the type of a specific column or the whole DataFrame."
   ],
   "metadata": {
    "collapsed": false
   }
  },
  {
   "cell_type": "code",
   "execution_count": 78,
   "outputs": [
    {
     "name": "stdout",
     "output_type": "stream",
     "text": [
      "int64\n",
      "_________________________\n"
     ]
    },
    {
     "data": {
      "text/plain": "dateRep                                                        object\nday                                                             int64\nmonth                                                           int64\nyear                                                            int64\ncases                                                           int64\ndeaths                                                          int64\ncountriesAndTerritories                                        object\ngeoId                                                          object\ncountryterritoryCode                                           object\npopData2019                                                   float64\ncontinentExp                                                   object\nCumulative_number_for_14_days_of_COVID-19_cases_per_100000    float64\ndtype: object"
     },
     "execution_count": 78,
     "metadata": {},
     "output_type": "execute_result"
    }
   ],
   "source": [
    "print(covid_dataset.deaths.dtype)\n",
    "print('_________________________')\n",
    "covid_dataset.dtypes"
   ],
   "metadata": {
    "collapsed": false,
    "pycharm": {
     "name": "#%%\n"
    }
   }
  },
  {
   "cell_type": "markdown",
   "source": [
    "## Indexing and Slicing\n",
    "To retrieve columns of the DataFrame, we use the *iloc* for index-based selection and *loc* for Label-based selection:"
   ],
   "metadata": {
    "collapsed": false,
    "pycharm": {
     "name": "#%% md\n"
    }
   }
  },
  {
   "cell_type": "code",
   "execution_count": 23,
   "outputs": [
    {
     "data": {
      "text/plain": "      dateRep  day  month  year  cases  deaths countriesAndTerritories geoId  \\\n1  06/09/2020    6      9  2020     20       0             Afghanistan    AF   \n2  05/09/2020    5      9  2020     16       0             Afghanistan    AF   \n3  04/09/2020    4      9  2020     45       1             Afghanistan    AF   \n\n  countryterritoryCode  popData2019 continentExp  \\\n1                  AFG   38041757.0         Asia   \n2                  AFG   38041757.0         Asia   \n3                  AFG   38041757.0         Asia   \n\n   Cumulative_number_for_14_days_of_COVID-19_cases_per_100000  \n1                                           0.854324           \n2                                           1.077763           \n3                                           1.135594           ",
      "text/html": "<div>\n<style scoped>\n    .dataframe tbody tr th:only-of-type {\n        vertical-align: middle;\n    }\n\n    .dataframe tbody tr th {\n        vertical-align: top;\n    }\n\n    .dataframe thead th {\n        text-align: right;\n    }\n</style>\n<table border=\"1\" class=\"dataframe\">\n  <thead>\n    <tr style=\"text-align: right;\">\n      <th></th>\n      <th>dateRep</th>\n      <th>day</th>\n      <th>month</th>\n      <th>year</th>\n      <th>cases</th>\n      <th>deaths</th>\n      <th>countriesAndTerritories</th>\n      <th>geoId</th>\n      <th>countryterritoryCode</th>\n      <th>popData2019</th>\n      <th>continentExp</th>\n      <th>Cumulative_number_for_14_days_of_COVID-19_cases_per_100000</th>\n    </tr>\n  </thead>\n  <tbody>\n    <tr>\n      <th>1</th>\n      <td>06/09/2020</td>\n      <td>6</td>\n      <td>9</td>\n      <td>2020</td>\n      <td>20</td>\n      <td>0</td>\n      <td>Afghanistan</td>\n      <td>AF</td>\n      <td>AFG</td>\n      <td>38041757.0</td>\n      <td>Asia</td>\n      <td>0.854324</td>\n    </tr>\n    <tr>\n      <th>2</th>\n      <td>05/09/2020</td>\n      <td>5</td>\n      <td>9</td>\n      <td>2020</td>\n      <td>16</td>\n      <td>0</td>\n      <td>Afghanistan</td>\n      <td>AF</td>\n      <td>AFG</td>\n      <td>38041757.0</td>\n      <td>Asia</td>\n      <td>1.077763</td>\n    </tr>\n    <tr>\n      <th>3</th>\n      <td>04/09/2020</td>\n      <td>4</td>\n      <td>9</td>\n      <td>2020</td>\n      <td>45</td>\n      <td>1</td>\n      <td>Afghanistan</td>\n      <td>AF</td>\n      <td>AFG</td>\n      <td>38041757.0</td>\n      <td>Asia</td>\n      <td>1.135594</td>\n    </tr>\n  </tbody>\n</table>\n</div>"
     },
     "execution_count": 23,
     "metadata": {},
     "output_type": "execute_result"
    }
   ],
   "source": [
    "covid_dataset.iloc[1:4]"
   ],
   "metadata": {
    "collapsed": false,
    "pycharm": {
     "name": "#%%\n"
    }
   }
  },
  {
   "cell_type": "markdown",
   "source": [
    "and to select specific columns like death and countries, we would do:"
   ],
   "metadata": {
    "collapsed": false
   }
  },
  {
   "cell_type": "code",
   "execution_count": 38,
   "outputs": [
    {
     "data": {
      "text/plain": "   countriesAndTerritories  deaths\n20             Afghanistan       0\n21             Afghanistan       5\n22             Afghanistan       7\n23             Afghanistan       0\n24             Afghanistan       9",
      "text/html": "<div>\n<style scoped>\n    .dataframe tbody tr th:only-of-type {\n        vertical-align: middle;\n    }\n\n    .dataframe tbody tr th {\n        vertical-align: top;\n    }\n\n    .dataframe thead th {\n        text-align: right;\n    }\n</style>\n<table border=\"1\" class=\"dataframe\">\n  <thead>\n    <tr style=\"text-align: right;\">\n      <th></th>\n      <th>countriesAndTerritories</th>\n      <th>deaths</th>\n    </tr>\n  </thead>\n  <tbody>\n    <tr>\n      <th>20</th>\n      <td>Afghanistan</td>\n      <td>0</td>\n    </tr>\n    <tr>\n      <th>21</th>\n      <td>Afghanistan</td>\n      <td>5</td>\n    </tr>\n    <tr>\n      <th>22</th>\n      <td>Afghanistan</td>\n      <td>7</td>\n    </tr>\n    <tr>\n      <th>23</th>\n      <td>Afghanistan</td>\n      <td>0</td>\n    </tr>\n    <tr>\n      <th>24</th>\n      <td>Afghanistan</td>\n      <td>9</td>\n    </tr>\n  </tbody>\n</table>\n</div>"
     },
     "execution_count": 38,
     "metadata": {},
     "output_type": "execute_result"
    }
   ],
   "source": [
    "covid_dataset.iloc[20:25,[6,5]]"
   ],
   "metadata": {
    "collapsed": false,
    "pycharm": {
     "name": "#%%\n"
    }
   }
  },
  {
   "cell_type": "markdown",
   "source": [
    "In loc operator, it's the data index value, not its position, which matters."
   ],
   "metadata": {
    "collapsed": false,
    "pycharm": {
     "name": "#%% md\n"
    }
   }
  },
  {
   "cell_type": "code",
   "execution_count": 36,
   "outputs": [
    {
     "data": {
      "text/plain": "   countriesAndTerritories  deaths\n20             Afghanistan       0\n21             Afghanistan       5\n22             Afghanistan       7\n23             Afghanistan       0\n24             Afghanistan       9\n25             Afghanistan      10",
      "text/html": "<div>\n<style scoped>\n    .dataframe tbody tr th:only-of-type {\n        vertical-align: middle;\n    }\n\n    .dataframe tbody tr th {\n        vertical-align: top;\n    }\n\n    .dataframe thead th {\n        text-align: right;\n    }\n</style>\n<table border=\"1\" class=\"dataframe\">\n  <thead>\n    <tr style=\"text-align: right;\">\n      <th></th>\n      <th>countriesAndTerritories</th>\n      <th>deaths</th>\n    </tr>\n  </thead>\n  <tbody>\n    <tr>\n      <th>20</th>\n      <td>Afghanistan</td>\n      <td>0</td>\n    </tr>\n    <tr>\n      <th>21</th>\n      <td>Afghanistan</td>\n      <td>5</td>\n    </tr>\n    <tr>\n      <th>22</th>\n      <td>Afghanistan</td>\n      <td>7</td>\n    </tr>\n    <tr>\n      <th>23</th>\n      <td>Afghanistan</td>\n      <td>0</td>\n    </tr>\n    <tr>\n      <th>24</th>\n      <td>Afghanistan</td>\n      <td>9</td>\n    </tr>\n    <tr>\n      <th>25</th>\n      <td>Afghanistan</td>\n      <td>10</td>\n    </tr>\n  </tbody>\n</table>\n</div>"
     },
     "execution_count": 36,
     "metadata": {},
     "output_type": "execute_result"
    }
   ],
   "source": [
    "covid_dataset.loc[20:25, ['countriesAndTerritories','deaths']]"
   ],
   "metadata": {
    "collapsed": false,
    "pycharm": {
     "name": "#%%\n"
    }
   }
  },
  {
   "cell_type": "markdown",
   "source": [
    "### Choosing between loc and iloc\n",
    "*iloc* uses the Python stdlib indexing scheme, where the first element of the range is included and the last one excluded.\n",
    "So 0:10 will select entries 0,...,9. loc, meanwhile, indexes inclusively. So 0:10 will select entries 0,...,10.\n",
    "\n",
    "Why the change? Remember that *loc* can index any stdlib type: strings, for example. If we have a DataFrame with index values Apples, ..., Potatoes, ..., and\n",
    "we want to select \"all the alphabetical fruit choices between Apples and Potatoes\", then it's a lot more convenient to index *df.loc['Apples':'Potatoes']*\n",
    "than it is to index something like *df.loc['Apples', 'Potatoet]* (t coming after s in the alphabet).\n",
    "<br/>"
   ],
   "metadata": {
    "collapsed": false,
    "pycharm": {
     "name": "#%% md\n"
    }
   }
  },
  {
   "cell_type": "markdown",
   "source": [
    "## Selection\n",
    "So far we've been indexing various strides of data, using structural properties of the DataFrame itself. To do interesting things with the data,\n",
    " however, we often need to ask questions based on conditions.\n",
    " For example, suppose that we're interested specifically in Cumulative_number_for_14_days_of_COVID-19_cases_per_100000 which are lower than 10:\n",
    " We can start by checking if each cumulative number report is lower than 10 or not:"
   ],
   "metadata": {
    "collapsed": false,
    "pycharm": {
     "name": "#%% md\n"
    }
   }
  },
  {
   "cell_type": "code",
   "execution_count": 47,
   "outputs": [
    {
     "data": {
      "text/plain": "0         True\n1         True\n2         True\n3         True\n4         True\n         ...  \n41205    False\n41206    False\n41207    False\n41208    False\n41209    False\nName: Cumulative_number_for_14_days_of_COVID-19_cases_per_100000, Length: 41210, dtype: bool"
     },
     "execution_count": 47,
     "metadata": {},
     "output_type": "execute_result"
    }
   ],
   "source": [
    "covid_dataset['Cumulative_number_for_14_days_of_COVID-19_cases_per_100000'] < 10"
   ],
   "metadata": {
    "collapsed": false,
    "pycharm": {
     "name": "#%%\n"
    }
   }
  },
  {
   "cell_type": "markdown",
   "source": [
    "This operation produced a Series of True/False booleans based on the cumulative number of each record. This result can then be used inside of *loc* to select the relevant data:"
   ],
   "metadata": {
    "collapsed": false
   }
  },
  {
   "cell_type": "code",
   "execution_count": 19,
   "outputs": [
    {
     "data": {
      "text/plain": "          dateRep  day  month  year  cases  deaths countriesAndTerritories  \\\n0      07/09/2020    7      9  2020     74       2             Afghanistan   \n1      06/09/2020    6      9  2020     20       0             Afghanistan   \n2      05/09/2020    5      9  2020     16       0             Afghanistan   \n3      04/09/2020    4      9  2020     45       1             Afghanistan   \n4      03/09/2020    3      9  2020     38       3             Afghanistan   \n...           ...  ...    ...   ...    ...     ...                     ...   \n41192  07/04/2020    7      4  2020      0       0                Zimbabwe   \n41193  06/04/2020    6      4  2020      0       0                Zimbabwe   \n41194  05/04/2020    5      4  2020      0       0                Zimbabwe   \n41195  04/04/2020    4      4  2020      1       0                Zimbabwe   \n41196  03/04/2020    3      4  2020      0       0                Zimbabwe   \n\n      geoId countryterritoryCode  popData2019 continentExp  \\\n0        AF                  AFG   38041757.0         Asia   \n1        AF                  AFG   38041757.0         Asia   \n2        AF                  AFG   38041757.0         Asia   \n3        AF                  AFG   38041757.0         Asia   \n4        AF                  AFG   38041757.0         Asia   \n...     ...                  ...          ...          ...   \n41192    ZW                  ZWE   14645473.0       Africa   \n41193    ZW                  ZWE   14645473.0       Africa   \n41194    ZW                  ZWE   14645473.0       Africa   \n41195    ZW                  ZWE   14645473.0       Africa   \n41196    ZW                  ZWE   14645473.0       Africa   \n\n       Cumulative_number_for_14_days_of_COVID-19_cases_per_100000  \n0                                               1.048847           \n1                                               0.854324           \n2                                               1.077763           \n3                                               1.135594           \n4                                               1.272286           \n...                                                  ...           \n41192                                           0.047796           \n41193                                           0.047796           \n41194                                           0.047796           \n41195                                           0.054624           \n41196                                           0.054624           \n\n[23917 rows x 12 columns]",
      "text/html": "<div>\n<style scoped>\n    .dataframe tbody tr th:only-of-type {\n        vertical-align: middle;\n    }\n\n    .dataframe tbody tr th {\n        vertical-align: top;\n    }\n\n    .dataframe thead th {\n        text-align: right;\n    }\n</style>\n<table border=\"1\" class=\"dataframe\">\n  <thead>\n    <tr style=\"text-align: right;\">\n      <th></th>\n      <th>dateRep</th>\n      <th>day</th>\n      <th>month</th>\n      <th>year</th>\n      <th>cases</th>\n      <th>deaths</th>\n      <th>countriesAndTerritories</th>\n      <th>geoId</th>\n      <th>countryterritoryCode</th>\n      <th>popData2019</th>\n      <th>continentExp</th>\n      <th>Cumulative_number_for_14_days_of_COVID-19_cases_per_100000</th>\n    </tr>\n  </thead>\n  <tbody>\n    <tr>\n      <th>0</th>\n      <td>07/09/2020</td>\n      <td>7</td>\n      <td>9</td>\n      <td>2020</td>\n      <td>74</td>\n      <td>2</td>\n      <td>Afghanistan</td>\n      <td>AF</td>\n      <td>AFG</td>\n      <td>38041757.0</td>\n      <td>Asia</td>\n      <td>1.048847</td>\n    </tr>\n    <tr>\n      <th>1</th>\n      <td>06/09/2020</td>\n      <td>6</td>\n      <td>9</td>\n      <td>2020</td>\n      <td>20</td>\n      <td>0</td>\n      <td>Afghanistan</td>\n      <td>AF</td>\n      <td>AFG</td>\n      <td>38041757.0</td>\n      <td>Asia</td>\n      <td>0.854324</td>\n    </tr>\n    <tr>\n      <th>2</th>\n      <td>05/09/2020</td>\n      <td>5</td>\n      <td>9</td>\n      <td>2020</td>\n      <td>16</td>\n      <td>0</td>\n      <td>Afghanistan</td>\n      <td>AF</td>\n      <td>AFG</td>\n      <td>38041757.0</td>\n      <td>Asia</td>\n      <td>1.077763</td>\n    </tr>\n    <tr>\n      <th>3</th>\n      <td>04/09/2020</td>\n      <td>4</td>\n      <td>9</td>\n      <td>2020</td>\n      <td>45</td>\n      <td>1</td>\n      <td>Afghanistan</td>\n      <td>AF</td>\n      <td>AFG</td>\n      <td>38041757.0</td>\n      <td>Asia</td>\n      <td>1.135594</td>\n    </tr>\n    <tr>\n      <th>4</th>\n      <td>03/09/2020</td>\n      <td>3</td>\n      <td>9</td>\n      <td>2020</td>\n      <td>38</td>\n      <td>3</td>\n      <td>Afghanistan</td>\n      <td>AF</td>\n      <td>AFG</td>\n      <td>38041757.0</td>\n      <td>Asia</td>\n      <td>1.272286</td>\n    </tr>\n    <tr>\n      <th>...</th>\n      <td>...</td>\n      <td>...</td>\n      <td>...</td>\n      <td>...</td>\n      <td>...</td>\n      <td>...</td>\n      <td>...</td>\n      <td>...</td>\n      <td>...</td>\n      <td>...</td>\n      <td>...</td>\n      <td>...</td>\n    </tr>\n    <tr>\n      <th>41192</th>\n      <td>07/04/2020</td>\n      <td>7</td>\n      <td>4</td>\n      <td>2020</td>\n      <td>0</td>\n      <td>0</td>\n      <td>Zimbabwe</td>\n      <td>ZW</td>\n      <td>ZWE</td>\n      <td>14645473.0</td>\n      <td>Africa</td>\n      <td>0.047796</td>\n    </tr>\n    <tr>\n      <th>41193</th>\n      <td>06/04/2020</td>\n      <td>6</td>\n      <td>4</td>\n      <td>2020</td>\n      <td>0</td>\n      <td>0</td>\n      <td>Zimbabwe</td>\n      <td>ZW</td>\n      <td>ZWE</td>\n      <td>14645473.0</td>\n      <td>Africa</td>\n      <td>0.047796</td>\n    </tr>\n    <tr>\n      <th>41194</th>\n      <td>05/04/2020</td>\n      <td>5</td>\n      <td>4</td>\n      <td>2020</td>\n      <td>0</td>\n      <td>0</td>\n      <td>Zimbabwe</td>\n      <td>ZW</td>\n      <td>ZWE</td>\n      <td>14645473.0</td>\n      <td>Africa</td>\n      <td>0.047796</td>\n    </tr>\n    <tr>\n      <th>41195</th>\n      <td>04/04/2020</td>\n      <td>4</td>\n      <td>4</td>\n      <td>2020</td>\n      <td>1</td>\n      <td>0</td>\n      <td>Zimbabwe</td>\n      <td>ZW</td>\n      <td>ZWE</td>\n      <td>14645473.0</td>\n      <td>Africa</td>\n      <td>0.054624</td>\n    </tr>\n    <tr>\n      <th>41196</th>\n      <td>03/04/2020</td>\n      <td>3</td>\n      <td>4</td>\n      <td>2020</td>\n      <td>0</td>\n      <td>0</td>\n      <td>Zimbabwe</td>\n      <td>ZW</td>\n      <td>ZWE</td>\n      <td>14645473.0</td>\n      <td>Africa</td>\n      <td>0.054624</td>\n    </tr>\n  </tbody>\n</table>\n<p>23917 rows × 12 columns</p>\n</div>"
     },
     "execution_count": 19,
     "metadata": {},
     "output_type": "execute_result"
    }
   ],
   "source": [
    "covid_dataset.loc[covid_dataset['Cumulative_number_for_14_days_of_COVID-19_cases_per_100000'] < 10]"
   ],
   "metadata": {
    "collapsed": false,
    "pycharm": {
     "name": "#%%\n"
    }
   }
  },
  {
   "cell_type": "markdown",
   "source": [
    "We can use the ampersand (&) to bring the two questions together:"
   ],
   "metadata": {
    "collapsed": false
   }
  },
  {
   "cell_type": "code",
   "execution_count": 53,
   "outputs": [
    {
     "data": {
      "text/plain": "          dateRep  day  month  year  cases  deaths countriesAndTerritories  \\\n38672  21/04/2020   21      4  2020    261      10                 Ukraine   \n38673  20/04/2020   20      4  2020    343       8                 Ukraine   \n38674  19/04/2020   19      4  2020    644       8                 Ukraine   \n38675  18/04/2020   18      4  2020    301       9                 Ukraine   \n38676  17/04/2020   17      4  2020    397       8                 Ukraine   \n38677  16/04/2020   16      4  2020    392      10                 Ukraine   \n38678  15/04/2020   15      4  2020    270       5                 Ukraine   \n38679  14/04/2020   14      4  2020    325      10                 Ukraine   \n38680  13/04/2020   13      4  2020    266      10                 Ukraine   \n38681  12/04/2020   12      4  2020    308       4                 Ukraine   \n38682  11/04/2020   11      4  2020    311      12                 Ukraine   \n38683  10/04/2020   10      4  2020    224       5                 Ukraine   \n38684  09/04/2020    9      4  2020    206       7                 Ukraine   \n38685  08/04/2020    8      4  2020    143       7                 Ukraine   \n38686  07/04/2020    7      4  2020     11       1                 Ukraine   \n38687  06/04/2020    6      4  2020     83       5                 Ukraine   \n38688  05/04/2020    5      4  2020    153       5                 Ukraine   \n38689  04/04/2020    4      4  2020    175       5                 Ukraine   \n38690  03/04/2020    3      4  2020    103       2                 Ukraine   \n38691  02/04/2020    2      4  2020    245       7                 Ukraine   \n38692  01/04/2020    1      4  2020     69       2                 Ukraine   \n38693  31/03/2020   31      3  2020     62       2                 Ukraine   \n38694  30/03/2020   30      3  2020    107       1                 Ukraine   \n38695  29/03/2020   29      3  2020     93       3                 Ukraine   \n38696  28/03/2020   28      3  2020     62       0                 Ukraine   \n38697  27/03/2020   27      3  2020     43       1                 Ukraine   \n\n      geoId countryterritoryCode  popData2019 continentExp  \\\n38672    UA                  UKR   43993643.0       Europe   \n38673    UA                  UKR   43993643.0       Europe   \n38674    UA                  UKR   43993643.0       Europe   \n38675    UA                  UKR   43993643.0       Europe   \n38676    UA                  UKR   43993643.0       Europe   \n38677    UA                  UKR   43993643.0       Europe   \n38678    UA                  UKR   43993643.0       Europe   \n38679    UA                  UKR   43993643.0       Europe   \n38680    UA                  UKR   43993643.0       Europe   \n38681    UA                  UKR   43993643.0       Europe   \n38682    UA                  UKR   43993643.0       Europe   \n38683    UA                  UKR   43993643.0       Europe   \n38684    UA                  UKR   43993643.0       Europe   \n38685    UA                  UKR   43993643.0       Europe   \n38686    UA                  UKR   43993643.0       Europe   \n38687    UA                  UKR   43993643.0       Europe   \n38688    UA                  UKR   43993643.0       Europe   \n38689    UA                  UKR   43993643.0       Europe   \n38690    UA                  UKR   43993643.0       Europe   \n38691    UA                  UKR   43993643.0       Europe   \n38692    UA                  UKR   43993643.0       Europe   \n38693    UA                  UKR   43993643.0       Europe   \n38694    UA                  UKR   43993643.0       Europe   \n38695    UA                  UKR   43993643.0       Europe   \n38696    UA                  UKR   43993643.0       Europe   \n38697    UA                  UKR   43993643.0       Europe   \n\n       Cumulative_number_for_14_days_of_COVID-19_cases_per_100000  \n38672                                           9.980987           \n38673                                           9.412724           \n38674                                           8.821729           \n38675                                           7.705659           \n38676                                           7.419254           \n38677                                           6.750975           \n38678                                           6.416836           \n38679                                           5.959952           \n38680                                           5.362138           \n38681                                           5.000722           \n38682                                           4.512016           \n38683                                           3.946025           \n38684                                           3.534602           \n38685                                           3.132271           \n38686                                           2.832227           \n38687                                           2.866323           \n38688                                           2.691298           \n38689                                           2.377616           \n38690                                           1.979831           \n38691                                           1.761618           \n38692                                           1.216085           \n38693                                           1.079701           \n38694                                           0.943318           \n38695                                           0.700101           \n38696                                           0.493253           \n38697                                           0.354597           ",
      "text/html": "<div>\n<style scoped>\n    .dataframe tbody tr th:only-of-type {\n        vertical-align: middle;\n    }\n\n    .dataframe tbody tr th {\n        vertical-align: top;\n    }\n\n    .dataframe thead th {\n        text-align: right;\n    }\n</style>\n<table border=\"1\" class=\"dataframe\">\n  <thead>\n    <tr style=\"text-align: right;\">\n      <th></th>\n      <th>dateRep</th>\n      <th>day</th>\n      <th>month</th>\n      <th>year</th>\n      <th>cases</th>\n      <th>deaths</th>\n      <th>countriesAndTerritories</th>\n      <th>geoId</th>\n      <th>countryterritoryCode</th>\n      <th>popData2019</th>\n      <th>continentExp</th>\n      <th>Cumulative_number_for_14_days_of_COVID-19_cases_per_100000</th>\n    </tr>\n  </thead>\n  <tbody>\n    <tr>\n      <th>38672</th>\n      <td>21/04/2020</td>\n      <td>21</td>\n      <td>4</td>\n      <td>2020</td>\n      <td>261</td>\n      <td>10</td>\n      <td>Ukraine</td>\n      <td>UA</td>\n      <td>UKR</td>\n      <td>43993643.0</td>\n      <td>Europe</td>\n      <td>9.980987</td>\n    </tr>\n    <tr>\n      <th>38673</th>\n      <td>20/04/2020</td>\n      <td>20</td>\n      <td>4</td>\n      <td>2020</td>\n      <td>343</td>\n      <td>8</td>\n      <td>Ukraine</td>\n      <td>UA</td>\n      <td>UKR</td>\n      <td>43993643.0</td>\n      <td>Europe</td>\n      <td>9.412724</td>\n    </tr>\n    <tr>\n      <th>38674</th>\n      <td>19/04/2020</td>\n      <td>19</td>\n      <td>4</td>\n      <td>2020</td>\n      <td>644</td>\n      <td>8</td>\n      <td>Ukraine</td>\n      <td>UA</td>\n      <td>UKR</td>\n      <td>43993643.0</td>\n      <td>Europe</td>\n      <td>8.821729</td>\n    </tr>\n    <tr>\n      <th>38675</th>\n      <td>18/04/2020</td>\n      <td>18</td>\n      <td>4</td>\n      <td>2020</td>\n      <td>301</td>\n      <td>9</td>\n      <td>Ukraine</td>\n      <td>UA</td>\n      <td>UKR</td>\n      <td>43993643.0</td>\n      <td>Europe</td>\n      <td>7.705659</td>\n    </tr>\n    <tr>\n      <th>38676</th>\n      <td>17/04/2020</td>\n      <td>17</td>\n      <td>4</td>\n      <td>2020</td>\n      <td>397</td>\n      <td>8</td>\n      <td>Ukraine</td>\n      <td>UA</td>\n      <td>UKR</td>\n      <td>43993643.0</td>\n      <td>Europe</td>\n      <td>7.419254</td>\n    </tr>\n    <tr>\n      <th>38677</th>\n      <td>16/04/2020</td>\n      <td>16</td>\n      <td>4</td>\n      <td>2020</td>\n      <td>392</td>\n      <td>10</td>\n      <td>Ukraine</td>\n      <td>UA</td>\n      <td>UKR</td>\n      <td>43993643.0</td>\n      <td>Europe</td>\n      <td>6.750975</td>\n    </tr>\n    <tr>\n      <th>38678</th>\n      <td>15/04/2020</td>\n      <td>15</td>\n      <td>4</td>\n      <td>2020</td>\n      <td>270</td>\n      <td>5</td>\n      <td>Ukraine</td>\n      <td>UA</td>\n      <td>UKR</td>\n      <td>43993643.0</td>\n      <td>Europe</td>\n      <td>6.416836</td>\n    </tr>\n    <tr>\n      <th>38679</th>\n      <td>14/04/2020</td>\n      <td>14</td>\n      <td>4</td>\n      <td>2020</td>\n      <td>325</td>\n      <td>10</td>\n      <td>Ukraine</td>\n      <td>UA</td>\n      <td>UKR</td>\n      <td>43993643.0</td>\n      <td>Europe</td>\n      <td>5.959952</td>\n    </tr>\n    <tr>\n      <th>38680</th>\n      <td>13/04/2020</td>\n      <td>13</td>\n      <td>4</td>\n      <td>2020</td>\n      <td>266</td>\n      <td>10</td>\n      <td>Ukraine</td>\n      <td>UA</td>\n      <td>UKR</td>\n      <td>43993643.0</td>\n      <td>Europe</td>\n      <td>5.362138</td>\n    </tr>\n    <tr>\n      <th>38681</th>\n      <td>12/04/2020</td>\n      <td>12</td>\n      <td>4</td>\n      <td>2020</td>\n      <td>308</td>\n      <td>4</td>\n      <td>Ukraine</td>\n      <td>UA</td>\n      <td>UKR</td>\n      <td>43993643.0</td>\n      <td>Europe</td>\n      <td>5.000722</td>\n    </tr>\n    <tr>\n      <th>38682</th>\n      <td>11/04/2020</td>\n      <td>11</td>\n      <td>4</td>\n      <td>2020</td>\n      <td>311</td>\n      <td>12</td>\n      <td>Ukraine</td>\n      <td>UA</td>\n      <td>UKR</td>\n      <td>43993643.0</td>\n      <td>Europe</td>\n      <td>4.512016</td>\n    </tr>\n    <tr>\n      <th>38683</th>\n      <td>10/04/2020</td>\n      <td>10</td>\n      <td>4</td>\n      <td>2020</td>\n      <td>224</td>\n      <td>5</td>\n      <td>Ukraine</td>\n      <td>UA</td>\n      <td>UKR</td>\n      <td>43993643.0</td>\n      <td>Europe</td>\n      <td>3.946025</td>\n    </tr>\n    <tr>\n      <th>38684</th>\n      <td>09/04/2020</td>\n      <td>9</td>\n      <td>4</td>\n      <td>2020</td>\n      <td>206</td>\n      <td>7</td>\n      <td>Ukraine</td>\n      <td>UA</td>\n      <td>UKR</td>\n      <td>43993643.0</td>\n      <td>Europe</td>\n      <td>3.534602</td>\n    </tr>\n    <tr>\n      <th>38685</th>\n      <td>08/04/2020</td>\n      <td>8</td>\n      <td>4</td>\n      <td>2020</td>\n      <td>143</td>\n      <td>7</td>\n      <td>Ukraine</td>\n      <td>UA</td>\n      <td>UKR</td>\n      <td>43993643.0</td>\n      <td>Europe</td>\n      <td>3.132271</td>\n    </tr>\n    <tr>\n      <th>38686</th>\n      <td>07/04/2020</td>\n      <td>7</td>\n      <td>4</td>\n      <td>2020</td>\n      <td>11</td>\n      <td>1</td>\n      <td>Ukraine</td>\n      <td>UA</td>\n      <td>UKR</td>\n      <td>43993643.0</td>\n      <td>Europe</td>\n      <td>2.832227</td>\n    </tr>\n    <tr>\n      <th>38687</th>\n      <td>06/04/2020</td>\n      <td>6</td>\n      <td>4</td>\n      <td>2020</td>\n      <td>83</td>\n      <td>5</td>\n      <td>Ukraine</td>\n      <td>UA</td>\n      <td>UKR</td>\n      <td>43993643.0</td>\n      <td>Europe</td>\n      <td>2.866323</td>\n    </tr>\n    <tr>\n      <th>38688</th>\n      <td>05/04/2020</td>\n      <td>5</td>\n      <td>4</td>\n      <td>2020</td>\n      <td>153</td>\n      <td>5</td>\n      <td>Ukraine</td>\n      <td>UA</td>\n      <td>UKR</td>\n      <td>43993643.0</td>\n      <td>Europe</td>\n      <td>2.691298</td>\n    </tr>\n    <tr>\n      <th>38689</th>\n      <td>04/04/2020</td>\n      <td>4</td>\n      <td>4</td>\n      <td>2020</td>\n      <td>175</td>\n      <td>5</td>\n      <td>Ukraine</td>\n      <td>UA</td>\n      <td>UKR</td>\n      <td>43993643.0</td>\n      <td>Europe</td>\n      <td>2.377616</td>\n    </tr>\n    <tr>\n      <th>38690</th>\n      <td>03/04/2020</td>\n      <td>3</td>\n      <td>4</td>\n      <td>2020</td>\n      <td>103</td>\n      <td>2</td>\n      <td>Ukraine</td>\n      <td>UA</td>\n      <td>UKR</td>\n      <td>43993643.0</td>\n      <td>Europe</td>\n      <td>1.979831</td>\n    </tr>\n    <tr>\n      <th>38691</th>\n      <td>02/04/2020</td>\n      <td>2</td>\n      <td>4</td>\n      <td>2020</td>\n      <td>245</td>\n      <td>7</td>\n      <td>Ukraine</td>\n      <td>UA</td>\n      <td>UKR</td>\n      <td>43993643.0</td>\n      <td>Europe</td>\n      <td>1.761618</td>\n    </tr>\n    <tr>\n      <th>38692</th>\n      <td>01/04/2020</td>\n      <td>1</td>\n      <td>4</td>\n      <td>2020</td>\n      <td>69</td>\n      <td>2</td>\n      <td>Ukraine</td>\n      <td>UA</td>\n      <td>UKR</td>\n      <td>43993643.0</td>\n      <td>Europe</td>\n      <td>1.216085</td>\n    </tr>\n    <tr>\n      <th>38693</th>\n      <td>31/03/2020</td>\n      <td>31</td>\n      <td>3</td>\n      <td>2020</td>\n      <td>62</td>\n      <td>2</td>\n      <td>Ukraine</td>\n      <td>UA</td>\n      <td>UKR</td>\n      <td>43993643.0</td>\n      <td>Europe</td>\n      <td>1.079701</td>\n    </tr>\n    <tr>\n      <th>38694</th>\n      <td>30/03/2020</td>\n      <td>30</td>\n      <td>3</td>\n      <td>2020</td>\n      <td>107</td>\n      <td>1</td>\n      <td>Ukraine</td>\n      <td>UA</td>\n      <td>UKR</td>\n      <td>43993643.0</td>\n      <td>Europe</td>\n      <td>0.943318</td>\n    </tr>\n    <tr>\n      <th>38695</th>\n      <td>29/03/2020</td>\n      <td>29</td>\n      <td>3</td>\n      <td>2020</td>\n      <td>93</td>\n      <td>3</td>\n      <td>Ukraine</td>\n      <td>UA</td>\n      <td>UKR</td>\n      <td>43993643.0</td>\n      <td>Europe</td>\n      <td>0.700101</td>\n    </tr>\n    <tr>\n      <th>38696</th>\n      <td>28/03/2020</td>\n      <td>28</td>\n      <td>3</td>\n      <td>2020</td>\n      <td>62</td>\n      <td>0</td>\n      <td>Ukraine</td>\n      <td>UA</td>\n      <td>UKR</td>\n      <td>43993643.0</td>\n      <td>Europe</td>\n      <td>0.493253</td>\n    </tr>\n    <tr>\n      <th>38697</th>\n      <td>27/03/2020</td>\n      <td>27</td>\n      <td>3</td>\n      <td>2020</td>\n      <td>43</td>\n      <td>1</td>\n      <td>Ukraine</td>\n      <td>UA</td>\n      <td>UKR</td>\n      <td>43993643.0</td>\n      <td>Europe</td>\n      <td>0.354597</td>\n    </tr>\n  </tbody>\n</table>\n</div>"
     },
     "execution_count": 53,
     "metadata": {},
     "output_type": "execute_result"
    }
   ],
   "source": [
    "covid_dataset.loc[(covid_dataset.countriesAndTerritories == 'Ukraine') & (covid_dataset['Cumulative_number_for_14_days_of_COVID-19_cases_per_100000'] < 10)]"
   ],
   "metadata": {
    "collapsed": false,
    "pycharm": {
     "name": "#%%\n"
    }
   }
  },
  {
   "cell_type": "markdown",
   "source": [
    "Pandas comes with a few built-in conditional selectors, two of which we will highlight here.\n",
    "\n",
    "The first is isin. isin is lets you select data whose value \"is in\" a list of values. For example, here's how we can use it to select records only from Iran or Germany:"
   ],
   "metadata": {
    "collapsed": false,
    "pycharm": {
     "name": "#%% md\n"
    }
   }
  },
  {
   "cell_type": "code",
   "execution_count": 54,
   "outputs": [
    {
     "data": {
      "text/plain": "          dateRep  day  month  year  cases  deaths countriesAndTerritories  \\\n14628  07/09/2020    7      9  2020    814       0                 Germany   \n14629  06/09/2020    6      9  2020    988       1                 Germany   \n14630  05/09/2020    5      9  2020   2049       5                 Germany   \n14631  04/09/2020    4      9  2020    832       0                 Germany   \n14632  03/09/2020    3      9  2020   1261       6                 Germany   \n...           ...  ...    ...   ...    ...     ...                     ...   \n18570  04/01/2020    4      1  2020      0       0                    Iran   \n18571  03/01/2020    3      1  2020      0       0                    Iran   \n18572  02/01/2020    2      1  2020      0       0                    Iran   \n18573  01/01/2020    1      1  2020      0       0                    Iran   \n18574  31/12/2019   31     12  2019      0       0                    Iran   \n\n      geoId countryterritoryCode  popData2019 continentExp  \\\n14628    DE                  DEU   83019213.0       Europe   \n14629    DE                  DEU   83019213.0       Europe   \n14630    DE                  DEU   83019213.0       Europe   \n14631    DE                  DEU   83019213.0       Europe   \n14632    DE                  DEU   83019213.0       Europe   \n...     ...                  ...          ...          ...   \n18570    IR                  IRN   82913893.0         Asia   \n18571    IR                  IRN   82913893.0         Asia   \n18572    IR                  IRN   82913893.0         Asia   \n18573    IR                  IRN   82913893.0         Asia   \n18574    IR                  IRN   82913893.0         Asia   \n\n       Cumulative_number_for_14_days_of_COVID-19_cases_per_100000  \n14628                                          20.747005           \n14629                                          20.622937           \n14630                                          20.374802           \n14631                                          19.272647           \n14632                                          21.073435           \n...                                                  ...           \n18570                                                NaN           \n18571                                                NaN           \n18572                                                NaN           \n18573                                                NaN           \n18574                                                NaN           \n\n[504 rows x 12 columns]",
      "text/html": "<div>\n<style scoped>\n    .dataframe tbody tr th:only-of-type {\n        vertical-align: middle;\n    }\n\n    .dataframe tbody tr th {\n        vertical-align: top;\n    }\n\n    .dataframe thead th {\n        text-align: right;\n    }\n</style>\n<table border=\"1\" class=\"dataframe\">\n  <thead>\n    <tr style=\"text-align: right;\">\n      <th></th>\n      <th>dateRep</th>\n      <th>day</th>\n      <th>month</th>\n      <th>year</th>\n      <th>cases</th>\n      <th>deaths</th>\n      <th>countriesAndTerritories</th>\n      <th>geoId</th>\n      <th>countryterritoryCode</th>\n      <th>popData2019</th>\n      <th>continentExp</th>\n      <th>Cumulative_number_for_14_days_of_COVID-19_cases_per_100000</th>\n    </tr>\n  </thead>\n  <tbody>\n    <tr>\n      <th>14628</th>\n      <td>07/09/2020</td>\n      <td>7</td>\n      <td>9</td>\n      <td>2020</td>\n      <td>814</td>\n      <td>0</td>\n      <td>Germany</td>\n      <td>DE</td>\n      <td>DEU</td>\n      <td>83019213.0</td>\n      <td>Europe</td>\n      <td>20.747005</td>\n    </tr>\n    <tr>\n      <th>14629</th>\n      <td>06/09/2020</td>\n      <td>6</td>\n      <td>9</td>\n      <td>2020</td>\n      <td>988</td>\n      <td>1</td>\n      <td>Germany</td>\n      <td>DE</td>\n      <td>DEU</td>\n      <td>83019213.0</td>\n      <td>Europe</td>\n      <td>20.622937</td>\n    </tr>\n    <tr>\n      <th>14630</th>\n      <td>05/09/2020</td>\n      <td>5</td>\n      <td>9</td>\n      <td>2020</td>\n      <td>2049</td>\n      <td>5</td>\n      <td>Germany</td>\n      <td>DE</td>\n      <td>DEU</td>\n      <td>83019213.0</td>\n      <td>Europe</td>\n      <td>20.374802</td>\n    </tr>\n    <tr>\n      <th>14631</th>\n      <td>04/09/2020</td>\n      <td>4</td>\n      <td>9</td>\n      <td>2020</td>\n      <td>832</td>\n      <td>0</td>\n      <td>Germany</td>\n      <td>DE</td>\n      <td>DEU</td>\n      <td>83019213.0</td>\n      <td>Europe</td>\n      <td>19.272647</td>\n    </tr>\n    <tr>\n      <th>14632</th>\n      <td>03/09/2020</td>\n      <td>3</td>\n      <td>9</td>\n      <td>2020</td>\n      <td>1261</td>\n      <td>6</td>\n      <td>Germany</td>\n      <td>DE</td>\n      <td>DEU</td>\n      <td>83019213.0</td>\n      <td>Europe</td>\n      <td>21.073435</td>\n    </tr>\n    <tr>\n      <th>...</th>\n      <td>...</td>\n      <td>...</td>\n      <td>...</td>\n      <td>...</td>\n      <td>...</td>\n      <td>...</td>\n      <td>...</td>\n      <td>...</td>\n      <td>...</td>\n      <td>...</td>\n      <td>...</td>\n      <td>...</td>\n    </tr>\n    <tr>\n      <th>18570</th>\n      <td>04/01/2020</td>\n      <td>4</td>\n      <td>1</td>\n      <td>2020</td>\n      <td>0</td>\n      <td>0</td>\n      <td>Iran</td>\n      <td>IR</td>\n      <td>IRN</td>\n      <td>82913893.0</td>\n      <td>Asia</td>\n      <td>NaN</td>\n    </tr>\n    <tr>\n      <th>18571</th>\n      <td>03/01/2020</td>\n      <td>3</td>\n      <td>1</td>\n      <td>2020</td>\n      <td>0</td>\n      <td>0</td>\n      <td>Iran</td>\n      <td>IR</td>\n      <td>IRN</td>\n      <td>82913893.0</td>\n      <td>Asia</td>\n      <td>NaN</td>\n    </tr>\n    <tr>\n      <th>18572</th>\n      <td>02/01/2020</td>\n      <td>2</td>\n      <td>1</td>\n      <td>2020</td>\n      <td>0</td>\n      <td>0</td>\n      <td>Iran</td>\n      <td>IR</td>\n      <td>IRN</td>\n      <td>82913893.0</td>\n      <td>Asia</td>\n      <td>NaN</td>\n    </tr>\n    <tr>\n      <th>18573</th>\n      <td>01/01/2020</td>\n      <td>1</td>\n      <td>1</td>\n      <td>2020</td>\n      <td>0</td>\n      <td>0</td>\n      <td>Iran</td>\n      <td>IR</td>\n      <td>IRN</td>\n      <td>82913893.0</td>\n      <td>Asia</td>\n      <td>NaN</td>\n    </tr>\n    <tr>\n      <th>18574</th>\n      <td>31/12/2019</td>\n      <td>31</td>\n      <td>12</td>\n      <td>2019</td>\n      <td>0</td>\n      <td>0</td>\n      <td>Iran</td>\n      <td>IR</td>\n      <td>IRN</td>\n      <td>82913893.0</td>\n      <td>Asia</td>\n      <td>NaN</td>\n    </tr>\n  </tbody>\n</table>\n<p>504 rows × 12 columns</p>\n</div>"
     },
     "execution_count": 54,
     "metadata": {},
     "output_type": "execute_result"
    }
   ],
   "source": [
    "covid_dataset.loc[covid_dataset.countriesAndTerritories.isin(['Iran', 'Germany'])]"
   ],
   "metadata": {
    "collapsed": false,
    "pycharm": {
     "name": "#%%\n"
    }
   }
  },
  {
   "cell_type": "markdown",
   "source": [
    "The second is isnull (and its companion notnull). These methods address a frequent problem and let you highlight values which are (or are not) empty (NaN). For example, to filter out records lacking a column in the dataset, here's what we would do:"
   ],
   "metadata": {
    "collapsed": false,
    "pycharm": {
     "name": "#%% md\n"
    }
   }
  },
  {
   "cell_type": "code",
   "execution_count": 56,
   "outputs": [
    {
     "data": {
      "text/plain": "          dateRep  day  month  year  cases  deaths countriesAndTerritories  \\\n0      07/09/2020    7      9  2020     74       2             Afghanistan   \n1      06/09/2020    6      9  2020     20       0             Afghanistan   \n2      05/09/2020    5      9  2020     16       0             Afghanistan   \n3      04/09/2020    4      9  2020     45       1             Afghanistan   \n4      03/09/2020    3      9  2020     38       3             Afghanistan   \n...           ...  ...    ...   ...    ...     ...                     ...   \n41192  07/04/2020    7      4  2020      0       0                Zimbabwe   \n41193  06/04/2020    6      4  2020      0       0                Zimbabwe   \n41194  05/04/2020    5      4  2020      0       0                Zimbabwe   \n41195  04/04/2020    4      4  2020      1       0                Zimbabwe   \n41196  03/04/2020    3      4  2020      0       0                Zimbabwe   \n\n      geoId countryterritoryCode  popData2019 continentExp  \\\n0        AF                  AFG   38041757.0         Asia   \n1        AF                  AFG   38041757.0         Asia   \n2        AF                  AFG   38041757.0         Asia   \n3        AF                  AFG   38041757.0         Asia   \n4        AF                  AFG   38041757.0         Asia   \n...     ...                  ...          ...          ...   \n41192    ZW                  ZWE   14645473.0       Africa   \n41193    ZW                  ZWE   14645473.0       Africa   \n41194    ZW                  ZWE   14645473.0       Africa   \n41195    ZW                  ZWE   14645473.0       Africa   \n41196    ZW                  ZWE   14645473.0       Africa   \n\n       Cumulative_number_for_14_days_of_COVID-19_cases_per_100000  \n0                                               1.048847           \n1                                               0.854324           \n2                                               1.077763           \n3                                               1.135594           \n4                                               1.272286           \n...                                                  ...           \n41192                                           0.047796           \n41193                                           0.047796           \n41194                                           0.047796           \n41195                                           0.054624           \n41196                                           0.054624           \n\n[38429 rows x 12 columns]",
      "text/html": "<div>\n<style scoped>\n    .dataframe tbody tr th:only-of-type {\n        vertical-align: middle;\n    }\n\n    .dataframe tbody tr th {\n        vertical-align: top;\n    }\n\n    .dataframe thead th {\n        text-align: right;\n    }\n</style>\n<table border=\"1\" class=\"dataframe\">\n  <thead>\n    <tr style=\"text-align: right;\">\n      <th></th>\n      <th>dateRep</th>\n      <th>day</th>\n      <th>month</th>\n      <th>year</th>\n      <th>cases</th>\n      <th>deaths</th>\n      <th>countriesAndTerritories</th>\n      <th>geoId</th>\n      <th>countryterritoryCode</th>\n      <th>popData2019</th>\n      <th>continentExp</th>\n      <th>Cumulative_number_for_14_days_of_COVID-19_cases_per_100000</th>\n    </tr>\n  </thead>\n  <tbody>\n    <tr>\n      <th>0</th>\n      <td>07/09/2020</td>\n      <td>7</td>\n      <td>9</td>\n      <td>2020</td>\n      <td>74</td>\n      <td>2</td>\n      <td>Afghanistan</td>\n      <td>AF</td>\n      <td>AFG</td>\n      <td>38041757.0</td>\n      <td>Asia</td>\n      <td>1.048847</td>\n    </tr>\n    <tr>\n      <th>1</th>\n      <td>06/09/2020</td>\n      <td>6</td>\n      <td>9</td>\n      <td>2020</td>\n      <td>20</td>\n      <td>0</td>\n      <td>Afghanistan</td>\n      <td>AF</td>\n      <td>AFG</td>\n      <td>38041757.0</td>\n      <td>Asia</td>\n      <td>0.854324</td>\n    </tr>\n    <tr>\n      <th>2</th>\n      <td>05/09/2020</td>\n      <td>5</td>\n      <td>9</td>\n      <td>2020</td>\n      <td>16</td>\n      <td>0</td>\n      <td>Afghanistan</td>\n      <td>AF</td>\n      <td>AFG</td>\n      <td>38041757.0</td>\n      <td>Asia</td>\n      <td>1.077763</td>\n    </tr>\n    <tr>\n      <th>3</th>\n      <td>04/09/2020</td>\n      <td>4</td>\n      <td>9</td>\n      <td>2020</td>\n      <td>45</td>\n      <td>1</td>\n      <td>Afghanistan</td>\n      <td>AF</td>\n      <td>AFG</td>\n      <td>38041757.0</td>\n      <td>Asia</td>\n      <td>1.135594</td>\n    </tr>\n    <tr>\n      <th>4</th>\n      <td>03/09/2020</td>\n      <td>3</td>\n      <td>9</td>\n      <td>2020</td>\n      <td>38</td>\n      <td>3</td>\n      <td>Afghanistan</td>\n      <td>AF</td>\n      <td>AFG</td>\n      <td>38041757.0</td>\n      <td>Asia</td>\n      <td>1.272286</td>\n    </tr>\n    <tr>\n      <th>...</th>\n      <td>...</td>\n      <td>...</td>\n      <td>...</td>\n      <td>...</td>\n      <td>...</td>\n      <td>...</td>\n      <td>...</td>\n      <td>...</td>\n      <td>...</td>\n      <td>...</td>\n      <td>...</td>\n      <td>...</td>\n    </tr>\n    <tr>\n      <th>41192</th>\n      <td>07/04/2020</td>\n      <td>7</td>\n      <td>4</td>\n      <td>2020</td>\n      <td>0</td>\n      <td>0</td>\n      <td>Zimbabwe</td>\n      <td>ZW</td>\n      <td>ZWE</td>\n      <td>14645473.0</td>\n      <td>Africa</td>\n      <td>0.047796</td>\n    </tr>\n    <tr>\n      <th>41193</th>\n      <td>06/04/2020</td>\n      <td>6</td>\n      <td>4</td>\n      <td>2020</td>\n      <td>0</td>\n      <td>0</td>\n      <td>Zimbabwe</td>\n      <td>ZW</td>\n      <td>ZWE</td>\n      <td>14645473.0</td>\n      <td>Africa</td>\n      <td>0.047796</td>\n    </tr>\n    <tr>\n      <th>41194</th>\n      <td>05/04/2020</td>\n      <td>5</td>\n      <td>4</td>\n      <td>2020</td>\n      <td>0</td>\n      <td>0</td>\n      <td>Zimbabwe</td>\n      <td>ZW</td>\n      <td>ZWE</td>\n      <td>14645473.0</td>\n      <td>Africa</td>\n      <td>0.047796</td>\n    </tr>\n    <tr>\n      <th>41195</th>\n      <td>04/04/2020</td>\n      <td>4</td>\n      <td>4</td>\n      <td>2020</td>\n      <td>1</td>\n      <td>0</td>\n      <td>Zimbabwe</td>\n      <td>ZW</td>\n      <td>ZWE</td>\n      <td>14645473.0</td>\n      <td>Africa</td>\n      <td>0.054624</td>\n    </tr>\n    <tr>\n      <th>41196</th>\n      <td>03/04/2020</td>\n      <td>3</td>\n      <td>4</td>\n      <td>2020</td>\n      <td>0</td>\n      <td>0</td>\n      <td>Zimbabwe</td>\n      <td>ZW</td>\n      <td>ZWE</td>\n      <td>14645473.0</td>\n      <td>Africa</td>\n      <td>0.054624</td>\n    </tr>\n  </tbody>\n</table>\n<p>38429 rows × 12 columns</p>\n</div>"
     },
     "execution_count": 56,
     "metadata": {},
     "output_type": "execute_result"
    }
   ],
   "source": [
    "covid_dataset.loc[covid_dataset['Cumulative_number_for_14_days_of_COVID-19_cases_per_100000'].notnull()]"
   ],
   "metadata": {
    "collapsed": false,
    "pycharm": {
     "name": "#%%\n"
    }
   }
  },
  {
   "cell_type": "markdown",
   "source": [
    "### Assigning Value\n",
    "Going the other way, assigning data to a DataFrame is easy. You can assign either a constant value:"
   ],
   "metadata": {
    "collapsed": false,
    "pycharm": {
     "name": "#%% md\n"
    }
   }
  },
  {
   "cell_type": "code",
   "execution_count": 66,
   "outputs": [
    {
     "data": {
      "text/plain": "0        274\n1        274\n2        274\n3        274\n4        274\n        ... \n41205    274\n41206    274\n41207    274\n41208    274\n41209    274\nName: deaths, Length: 41210, dtype: int64"
     },
     "execution_count": 66,
     "metadata": {},
     "output_type": "execute_result"
    }
   ],
   "source": [
    "covid_dataset['deaths'] = 274\n",
    "covid_dataset['deaths']"
   ],
   "metadata": {
    "collapsed": false,
    "pycharm": {
     "name": "#%%\n"
    }
   }
  },
  {
   "cell_type": "markdown",
   "source": [
    "Or with an iterable of values:"
   ],
   "metadata": {
    "collapsed": false
   }
  },
  {
   "cell_type": "code",
   "execution_count": 59,
   "outputs": [
    {
     "data": {
      "text/plain": "0        41210\n1        41209\n2        41208\n3        41207\n4        41206\n         ...  \n41205        5\n41206        4\n41207        3\n41208        2\n41209        1\nName: index_backward, Length: 41210, dtype: int32"
     },
     "execution_count": 59,
     "metadata": {},
     "output_type": "execute_result"
    }
   ],
   "source": [
    "covid_dataset['index_backward'] = range(covid_dataset.shape[0], 0, -1)\n",
    "covid_dataset['index_backward']"
   ],
   "metadata": {
    "collapsed": false,
    "pycharm": {
     "name": "#%%\n"
    }
   }
  },
  {
   "cell_type": "markdown",
   "source": [
    "## Renaming\n",
    "Oftentimes data will come to us with column names, index names, or other naming conventions that we are not satisfied with.\n",
    " In that case, you'll learn how to use pandas functions to change the names of the offending entries to something better.\n",
    "\n",
    "The first function we'll introduce here is rename(), which lets you change index names and/or column names. For example, to change the countriesAndTerritories column in our dataset to location, we would do:"
   ],
   "metadata": {
    "collapsed": false,
    "pycharm": {
     "name": "#%% md\n"
    }
   }
  },
  {
   "cell_type": "code",
   "execution_count": 135,
   "outputs": [],
   "source": [
    "covid_dataset = covid_dataset.rename(columns={'countriesAndTerritories': 'location'})\n",
    "covid_dataset = covid_dataset.rename(columns={'Cumulative_number_for_14_days_of_COVID-19_cases_per_100000': 'recent_cases_per_100000'})"
   ],
   "metadata": {
    "collapsed": false,
    "pycharm": {
     "name": "#%%\n"
    }
   }
  },
  {
   "cell_type": "markdown",
   "source": [
    "You'll probably rename columns very often, but rename index values very rarely. For that, set_index() is usually more convenient.\n"
   ],
   "metadata": {
    "collapsed": false,
    "pycharm": {
     "name": "#%% md\n"
    }
   }
  },
  {
   "cell_type": "markdown",
   "source": [
    "## Missing Data\n",
    "Entries missing values are given the value NaN, short for \"Not a Number\". For technical reasons these NaN values are always of the float64 dtype.\n",
    "\n",
    "Pandas provides some methods specific to missing data. To select NaN entries you can use pd.isnull() (or its companion pd.notnull()). This is meant to be used thusly:"
   ],
   "metadata": {
    "collapsed": false
   }
  },
  {
   "cell_type": "code",
   "execution_count": 81,
   "outputs": [
    {
     "data": {
      "text/plain": "Empty DataFrame\nColumns: [dateRep, day, month, year, cases, deaths, location, geoId, countryterritoryCode, popData2019, continentExp, Cumulative_number_for_14_days_of_COVID-19_cases_per_100000]\nIndex: []",
      "text/html": "<div>\n<style scoped>\n    .dataframe tbody tr th:only-of-type {\n        vertical-align: middle;\n    }\n\n    .dataframe tbody tr th {\n        vertical-align: top;\n    }\n\n    .dataframe thead th {\n        text-align: right;\n    }\n</style>\n<table border=\"1\" class=\"dataframe\">\n  <thead>\n    <tr style=\"text-align: right;\">\n      <th></th>\n      <th>dateRep</th>\n      <th>day</th>\n      <th>month</th>\n      <th>year</th>\n      <th>cases</th>\n      <th>deaths</th>\n      <th>location</th>\n      <th>geoId</th>\n      <th>countryterritoryCode</th>\n      <th>popData2019</th>\n      <th>continentExp</th>\n      <th>Cumulative_number_for_14_days_of_COVID-19_cases_per_100000</th>\n    </tr>\n  </thead>\n  <tbody>\n  </tbody>\n</table>\n</div>"
     },
     "execution_count": 81,
     "metadata": {},
     "output_type": "execute_result"
    }
   ],
   "source": [
    "covid_dataset[pd.isnull(covid_dataset.location)]"
   ],
   "metadata": {
    "collapsed": false,
    "pycharm": {
     "name": "#%%\n"
    }
   }
  },
  {
   "cell_type": "markdown",
   "source": [
    "But for"
   ],
   "metadata": {
    "collapsed": false
   }
  },
  {
   "cell_type": "code",
   "execution_count": 83,
   "outputs": [
    {
     "data": {
      "text/plain": "          dateRep  day  month  year  cases  deaths     location geoId  \\\n229    12/01/2020   12      1  2020      0       0  Afghanistan    AF   \n230    11/01/2020   11      1  2020      0       0  Afghanistan    AF   \n231    10/01/2020   10      1  2020      0       0  Afghanistan    AF   \n232    09/01/2020    9      1  2020      0       0  Afghanistan    AF   \n233    08/01/2020    8      1  2020      0       0  Afghanistan    AF   \n...           ...  ...    ...   ...    ...     ...          ...   ...   \n41205  25/03/2020   25      3  2020      0       0     Zimbabwe    ZW   \n41206  24/03/2020   24      3  2020      0       1     Zimbabwe    ZW   \n41207  23/03/2020   23      3  2020      0       0     Zimbabwe    ZW   \n41208  22/03/2020   22      3  2020      1       0     Zimbabwe    ZW   \n41209  21/03/2020   21      3  2020      1       0     Zimbabwe    ZW   \n\n      countryterritoryCode  popData2019 continentExp  recent_cases_per_100000  \n229                    AFG   38041757.0         Asia                      NaN  \n230                    AFG   38041757.0         Asia                      NaN  \n231                    AFG   38041757.0         Asia                      NaN  \n232                    AFG   38041757.0         Asia                      NaN  \n233                    AFG   38041757.0         Asia                      NaN  \n...                    ...          ...          ...                      ...  \n41205                  ZWE   14645473.0       Africa                      NaN  \n41206                  ZWE   14645473.0       Africa                      NaN  \n41207                  ZWE   14645473.0       Africa                      NaN  \n41208                  ZWE   14645473.0       Africa                      NaN  \n41209                  ZWE   14645473.0       Africa                      NaN  \n\n[2781 rows x 12 columns]",
      "text/html": "<div>\n<style scoped>\n    .dataframe tbody tr th:only-of-type {\n        vertical-align: middle;\n    }\n\n    .dataframe tbody tr th {\n        vertical-align: top;\n    }\n\n    .dataframe thead th {\n        text-align: right;\n    }\n</style>\n<table border=\"1\" class=\"dataframe\">\n  <thead>\n    <tr style=\"text-align: right;\">\n      <th></th>\n      <th>dateRep</th>\n      <th>day</th>\n      <th>month</th>\n      <th>year</th>\n      <th>cases</th>\n      <th>deaths</th>\n      <th>location</th>\n      <th>geoId</th>\n      <th>countryterritoryCode</th>\n      <th>popData2019</th>\n      <th>continentExp</th>\n      <th>recent_cases_per_100000</th>\n    </tr>\n  </thead>\n  <tbody>\n    <tr>\n      <th>229</th>\n      <td>12/01/2020</td>\n      <td>12</td>\n      <td>1</td>\n      <td>2020</td>\n      <td>0</td>\n      <td>0</td>\n      <td>Afghanistan</td>\n      <td>AF</td>\n      <td>AFG</td>\n      <td>38041757.0</td>\n      <td>Asia</td>\n      <td>NaN</td>\n    </tr>\n    <tr>\n      <th>230</th>\n      <td>11/01/2020</td>\n      <td>11</td>\n      <td>1</td>\n      <td>2020</td>\n      <td>0</td>\n      <td>0</td>\n      <td>Afghanistan</td>\n      <td>AF</td>\n      <td>AFG</td>\n      <td>38041757.0</td>\n      <td>Asia</td>\n      <td>NaN</td>\n    </tr>\n    <tr>\n      <th>231</th>\n      <td>10/01/2020</td>\n      <td>10</td>\n      <td>1</td>\n      <td>2020</td>\n      <td>0</td>\n      <td>0</td>\n      <td>Afghanistan</td>\n      <td>AF</td>\n      <td>AFG</td>\n      <td>38041757.0</td>\n      <td>Asia</td>\n      <td>NaN</td>\n    </tr>\n    <tr>\n      <th>232</th>\n      <td>09/01/2020</td>\n      <td>9</td>\n      <td>1</td>\n      <td>2020</td>\n      <td>0</td>\n      <td>0</td>\n      <td>Afghanistan</td>\n      <td>AF</td>\n      <td>AFG</td>\n      <td>38041757.0</td>\n      <td>Asia</td>\n      <td>NaN</td>\n    </tr>\n    <tr>\n      <th>233</th>\n      <td>08/01/2020</td>\n      <td>8</td>\n      <td>1</td>\n      <td>2020</td>\n      <td>0</td>\n      <td>0</td>\n      <td>Afghanistan</td>\n      <td>AF</td>\n      <td>AFG</td>\n      <td>38041757.0</td>\n      <td>Asia</td>\n      <td>NaN</td>\n    </tr>\n    <tr>\n      <th>...</th>\n      <td>...</td>\n      <td>...</td>\n      <td>...</td>\n      <td>...</td>\n      <td>...</td>\n      <td>...</td>\n      <td>...</td>\n      <td>...</td>\n      <td>...</td>\n      <td>...</td>\n      <td>...</td>\n      <td>...</td>\n    </tr>\n    <tr>\n      <th>41205</th>\n      <td>25/03/2020</td>\n      <td>25</td>\n      <td>3</td>\n      <td>2020</td>\n      <td>0</td>\n      <td>0</td>\n      <td>Zimbabwe</td>\n      <td>ZW</td>\n      <td>ZWE</td>\n      <td>14645473.0</td>\n      <td>Africa</td>\n      <td>NaN</td>\n    </tr>\n    <tr>\n      <th>41206</th>\n      <td>24/03/2020</td>\n      <td>24</td>\n      <td>3</td>\n      <td>2020</td>\n      <td>0</td>\n      <td>1</td>\n      <td>Zimbabwe</td>\n      <td>ZW</td>\n      <td>ZWE</td>\n      <td>14645473.0</td>\n      <td>Africa</td>\n      <td>NaN</td>\n    </tr>\n    <tr>\n      <th>41207</th>\n      <td>23/03/2020</td>\n      <td>23</td>\n      <td>3</td>\n      <td>2020</td>\n      <td>0</td>\n      <td>0</td>\n      <td>Zimbabwe</td>\n      <td>ZW</td>\n      <td>ZWE</td>\n      <td>14645473.0</td>\n      <td>Africa</td>\n      <td>NaN</td>\n    </tr>\n    <tr>\n      <th>41208</th>\n      <td>22/03/2020</td>\n      <td>22</td>\n      <td>3</td>\n      <td>2020</td>\n      <td>1</td>\n      <td>0</td>\n      <td>Zimbabwe</td>\n      <td>ZW</td>\n      <td>ZWE</td>\n      <td>14645473.0</td>\n      <td>Africa</td>\n      <td>NaN</td>\n    </tr>\n    <tr>\n      <th>41209</th>\n      <td>21/03/2020</td>\n      <td>21</td>\n      <td>3</td>\n      <td>2020</td>\n      <td>1</td>\n      <td>0</td>\n      <td>Zimbabwe</td>\n      <td>ZW</td>\n      <td>ZWE</td>\n      <td>14645473.0</td>\n      <td>Africa</td>\n      <td>NaN</td>\n    </tr>\n  </tbody>\n</table>\n<p>2781 rows × 12 columns</p>\n</div>"
     },
     "execution_count": 83,
     "metadata": {},
     "output_type": "execute_result"
    }
   ],
   "source": [
    "covid_dataset[pd.isnull(covid_dataset.recent_cases_per_100000)]"
   ],
   "metadata": {
    "collapsed": false,
    "pycharm": {
     "name": "#%%\n"
    }
   }
  },
  {
   "cell_type": "markdown",
   "source": [
    "and you can deal with these data with *fillna* method which provides a few different strategies for mitigating such data.  For example, we can simply replace each NaN with an \"Unknown\":"
   ],
   "metadata": {
    "collapsed": false,
    "pycharm": {
     "name": "#%% md\n"
    }
   }
  },
  {
   "cell_type": "code",
   "execution_count": 84,
   "outputs": [
    {
     "data": {
      "text/plain": "0         1.04885\n1        0.854324\n2         1.07776\n3         1.13559\n4         1.27229\n           ...   \n41205     Unknown\n41206     Unknown\n41207     Unknown\n41208     Unknown\n41209     Unknown\nName: recent_cases_per_100000, Length: 41210, dtype: object"
     },
     "execution_count": 84,
     "metadata": {},
     "output_type": "execute_result"
    }
   ],
   "source": [
    "covid_dataset.recent_cases_per_100000.fillna('Unknown')"
   ],
   "metadata": {
    "collapsed": false,
    "pycharm": {
     "name": "#%%\n"
    }
   }
  },
  {
   "cell_type": "markdown",
   "source": [
    "Alternatively, we may have a non-null value that we would like to replace. For example, suppose that since this dataset was published and a bug fix has reported accordingly, One way to reflect this in the dataset is using the replace() method:"
   ],
   "metadata": {
    "collapsed": false,
    "pycharm": {
     "name": "#%% md\n"
    }
   }
  },
  {
   "cell_type": "code",
   "execution_count": 119,
   "outputs": [
    {
     "data": {
      "text/plain": "0      70\n1      20\n2      16\n3      45\n4      38\n       ..\n237     0\n238     0\n239     0\n240     0\n241     0\nName: cases, Length: 242, dtype: int64"
     },
     "execution_count": 119,
     "metadata": {},
     "output_type": "execute_result"
    }
   ],
   "source": [
    "covid_dataset.loc[covid_dataset.countryterritoryCode == 'AFG'].cases.replace(74, 70)"
   ],
   "metadata": {
    "collapsed": false,
    "pycharm": {
     "name": "#%%\n"
    }
   }
  },
  {
   "cell_type": "code",
   "execution_count": 121,
   "outputs": [
    {
     "data": {
      "text/plain": "          dateRep  day  month  year  cases  deaths countriesAndTerritories  \\\n0      07/09/2020    7      9  2020     74       2             Afghanistan   \n1      06/09/2020    6      9  2020     20       0             Afghanistan   \n2      05/09/2020    5      9  2020     16       0             Afghanistan   \n3      04/09/2020    4      9  2020     45       1             Afghanistan   \n4      03/09/2020    3      9  2020     38       3             Afghanistan   \n...           ...  ...    ...   ...    ...     ...                     ...   \n41205  25/03/2020   25      3  2020      0       0                Zimbabwe   \n41206  24/03/2020   24      3  2020      0       1                Zimbabwe   \n41207  23/03/2020   23      3  2020      0       0                Zimbabwe   \n41208  22/03/2020   22      3  2020      1       0                Zimbabwe   \n41209  21/03/2020   21      3  2020      1       0                Zimbabwe   \n\n      geoId countryterritoryCode  popData2019 continentExp  \\\n0        AF                  AFG   38041757.0         Asia   \n1        AF                  AFG   38041757.0         Asia   \n2        AF                  AFG   38041757.0         Asia   \n3        AF                  AFG   38041757.0         Asia   \n4        AF                  AFG   38041757.0         Asia   \n...     ...                  ...          ...          ...   \n41205    ZW                  ZWE   14645473.0       Africa   \n41206    ZW                  ZWE   14645473.0       Africa   \n41207    ZW                  ZWE   14645473.0       Africa   \n41208    ZW                  ZWE   14645473.0       Africa   \n41209    ZW                  ZWE   14645473.0       Africa   \n\n       Cumulative_number_for_14_days_of_COVID-19_cases_per_100000  \n0                                               1.048847           \n1                                               0.854324           \n2                                               1.077763           \n3                                               1.135594           \n4                                               1.272286           \n...                                                  ...           \n41205                                                NaN           \n41206                                                NaN           \n41207                                                NaN           \n41208                                                NaN           \n41209                                                NaN           \n\n[41210 rows x 12 columns]",
      "text/html": "<div>\n<style scoped>\n    .dataframe tbody tr th:only-of-type {\n        vertical-align: middle;\n    }\n\n    .dataframe tbody tr th {\n        vertical-align: top;\n    }\n\n    .dataframe thead th {\n        text-align: right;\n    }\n</style>\n<table border=\"1\" class=\"dataframe\">\n  <thead>\n    <tr style=\"text-align: right;\">\n      <th></th>\n      <th>dateRep</th>\n      <th>day</th>\n      <th>month</th>\n      <th>year</th>\n      <th>cases</th>\n      <th>deaths</th>\n      <th>countriesAndTerritories</th>\n      <th>geoId</th>\n      <th>countryterritoryCode</th>\n      <th>popData2019</th>\n      <th>continentExp</th>\n      <th>Cumulative_number_for_14_days_of_COVID-19_cases_per_100000</th>\n    </tr>\n  </thead>\n  <tbody>\n    <tr>\n      <th>0</th>\n      <td>07/09/2020</td>\n      <td>7</td>\n      <td>9</td>\n      <td>2020</td>\n      <td>74</td>\n      <td>2</td>\n      <td>Afghanistan</td>\n      <td>AF</td>\n      <td>AFG</td>\n      <td>38041757.0</td>\n      <td>Asia</td>\n      <td>1.048847</td>\n    </tr>\n    <tr>\n      <th>1</th>\n      <td>06/09/2020</td>\n      <td>6</td>\n      <td>9</td>\n      <td>2020</td>\n      <td>20</td>\n      <td>0</td>\n      <td>Afghanistan</td>\n      <td>AF</td>\n      <td>AFG</td>\n      <td>38041757.0</td>\n      <td>Asia</td>\n      <td>0.854324</td>\n    </tr>\n    <tr>\n      <th>2</th>\n      <td>05/09/2020</td>\n      <td>5</td>\n      <td>9</td>\n      <td>2020</td>\n      <td>16</td>\n      <td>0</td>\n      <td>Afghanistan</td>\n      <td>AF</td>\n      <td>AFG</td>\n      <td>38041757.0</td>\n      <td>Asia</td>\n      <td>1.077763</td>\n    </tr>\n    <tr>\n      <th>3</th>\n      <td>04/09/2020</td>\n      <td>4</td>\n      <td>9</td>\n      <td>2020</td>\n      <td>45</td>\n      <td>1</td>\n      <td>Afghanistan</td>\n      <td>AF</td>\n      <td>AFG</td>\n      <td>38041757.0</td>\n      <td>Asia</td>\n      <td>1.135594</td>\n    </tr>\n    <tr>\n      <th>4</th>\n      <td>03/09/2020</td>\n      <td>3</td>\n      <td>9</td>\n      <td>2020</td>\n      <td>38</td>\n      <td>3</td>\n      <td>Afghanistan</td>\n      <td>AF</td>\n      <td>AFG</td>\n      <td>38041757.0</td>\n      <td>Asia</td>\n      <td>1.272286</td>\n    </tr>\n    <tr>\n      <th>...</th>\n      <td>...</td>\n      <td>...</td>\n      <td>...</td>\n      <td>...</td>\n      <td>...</td>\n      <td>...</td>\n      <td>...</td>\n      <td>...</td>\n      <td>...</td>\n      <td>...</td>\n      <td>...</td>\n      <td>...</td>\n    </tr>\n    <tr>\n      <th>41205</th>\n      <td>25/03/2020</td>\n      <td>25</td>\n      <td>3</td>\n      <td>2020</td>\n      <td>0</td>\n      <td>0</td>\n      <td>Zimbabwe</td>\n      <td>ZW</td>\n      <td>ZWE</td>\n      <td>14645473.0</td>\n      <td>Africa</td>\n      <td>NaN</td>\n    </tr>\n    <tr>\n      <th>41206</th>\n      <td>24/03/2020</td>\n      <td>24</td>\n      <td>3</td>\n      <td>2020</td>\n      <td>0</td>\n      <td>1</td>\n      <td>Zimbabwe</td>\n      <td>ZW</td>\n      <td>ZWE</td>\n      <td>14645473.0</td>\n      <td>Africa</td>\n      <td>NaN</td>\n    </tr>\n    <tr>\n      <th>41207</th>\n      <td>23/03/2020</td>\n      <td>23</td>\n      <td>3</td>\n      <td>2020</td>\n      <td>0</td>\n      <td>0</td>\n      <td>Zimbabwe</td>\n      <td>ZW</td>\n      <td>ZWE</td>\n      <td>14645473.0</td>\n      <td>Africa</td>\n      <td>NaN</td>\n    </tr>\n    <tr>\n      <th>41208</th>\n      <td>22/03/2020</td>\n      <td>22</td>\n      <td>3</td>\n      <td>2020</td>\n      <td>1</td>\n      <td>0</td>\n      <td>Zimbabwe</td>\n      <td>ZW</td>\n      <td>ZWE</td>\n      <td>14645473.0</td>\n      <td>Africa</td>\n      <td>NaN</td>\n    </tr>\n    <tr>\n      <th>41209</th>\n      <td>21/03/2020</td>\n      <td>21</td>\n      <td>3</td>\n      <td>2020</td>\n      <td>1</td>\n      <td>0</td>\n      <td>Zimbabwe</td>\n      <td>ZW</td>\n      <td>ZWE</td>\n      <td>14645473.0</td>\n      <td>Africa</td>\n      <td>NaN</td>\n    </tr>\n  </tbody>\n</table>\n<p>41210 rows × 12 columns</p>\n</div>"
     },
     "execution_count": 121,
     "metadata": {},
     "output_type": "execute_result"
    }
   ],
   "source": [
    "covid_dataset"
   ],
   "metadata": {
    "collapsed": false,
    "pycharm": {
     "name": "#%%\n"
    }
   }
  },
  {
   "cell_type": "markdown",
   "source": [
    "## Summary Functions\n",
    "### describe\n",
    "Pandas provides many simple \"summary functions\" (not an official name) which restructure the data in some useful way. For example, consider the describe() method:\n",
    "#### 1. Numerical"
   ],
   "metadata": {
    "collapsed": false,
    "pycharm": {
     "name": "#%% md\n"
    }
   }
  },
  {
   "cell_type": "code",
   "execution_count": 122,
   "outputs": [
    {
     "data": {
      "text/plain": "count    4.114600e+04\nmean     4.324698e+07\nstd      1.588085e+08\nmin      8.150000e+02\n25%      1.394969e+06\n50%      8.519373e+06\n75%      2.916192e+07\nmax      1.433784e+09\nName: popData2019, dtype: float64"
     },
     "execution_count": 122,
     "metadata": {},
     "output_type": "execute_result"
    }
   ],
   "source": [
    "covid_dataset.popData2019.describe()"
   ],
   "metadata": {
    "collapsed": false,
    "pycharm": {
     "name": "#%%\n"
    }
   }
  },
  {
   "cell_type": "markdown",
   "source": [
    "#### 2. String"
   ],
   "metadata": {
    "collapsed": false,
    "pycharm": {
     "name": "#%% md\n"
    }
   }
  },
  {
   "cell_type": "code",
   "execution_count": 124,
   "outputs": [
    {
     "data": {
      "text/plain": "count      41210\nunique         6\ntop       Europe\nfreq       11804\nName: continentExp, dtype: object"
     },
     "execution_count": 124,
     "metadata": {},
     "output_type": "execute_result"
    }
   ],
   "source": [
    "covid_dataset.continentExp.describe()"
   ],
   "metadata": {
    "collapsed": false,
    "pycharm": {
     "name": "#%%\n"
    }
   }
  },
  {
   "cell_type": "markdown",
   "source": [
    "### mean()\n",
    "If you want to get some particular simple summary statistic about a column in a DataFrame or a Series, there is usually a helpful pandas function that makes it happen.\n",
    "\n",
    "For example, to see the mean of the points allotted,we can use the mean() method:"
   ],
   "metadata": {
    "collapsed": false,
    "pycharm": {
     "name": "#%% md\n"
    }
   }
  },
  {
   "cell_type": "code",
   "execution_count": 125,
   "outputs": [
    {
     "data": {
      "text/plain": "658.8400145595729"
     },
     "execution_count": 125,
     "metadata": {},
     "output_type": "execute_result"
    }
   ],
   "source": [
    "covid_dataset.cases.mean()\n"
   ],
   "metadata": {
    "collapsed": false,
    "pycharm": {
     "name": "#%%\n"
    }
   }
  },
  {
   "cell_type": "markdown",
   "source": [
    "### unique()\n",
    "To see a list of unique values we can use the unique() method:"
   ],
   "metadata": {
    "collapsed": false
   }
  },
  {
   "cell_type": "code",
   "execution_count": 126,
   "outputs": [
    {
     "data": {
      "text/plain": "array(['07/09/2020', '06/09/2020', '05/09/2020', '04/09/2020',\n       '03/09/2020', '02/09/2020', '01/09/2020', '31/08/2020',\n       '30/08/2020', '29/08/2020', '28/08/2020', '27/08/2020',\n       '26/08/2020', '25/08/2020', '24/08/2020', '23/08/2020',\n       '22/08/2020', '21/08/2020', '20/08/2020', '19/08/2020',\n       '18/08/2020', '17/08/2020', '16/08/2020', '15/08/2020',\n       '14/08/2020', '13/08/2020', '12/08/2020', '11/08/2020',\n       '10/08/2020', '09/08/2020', '08/08/2020', '07/08/2020',\n       '06/08/2020', '05/08/2020', '04/08/2020', '03/08/2020',\n       '02/08/2020', '01/08/2020', '31/07/2020', '30/07/2020',\n       '29/07/2020', '28/07/2020', '27/07/2020', '26/07/2020',\n       '25/07/2020', '24/07/2020', '23/07/2020', '22/07/2020',\n       '21/07/2020', '20/07/2020', '19/07/2020', '18/07/2020',\n       '17/07/2020', '16/07/2020', '15/07/2020', '14/07/2020',\n       '13/07/2020', '12/07/2020', '11/07/2020', '10/07/2020',\n       '09/07/2020', '08/07/2020', '07/07/2020', '06/07/2020',\n       '05/07/2020', '04/07/2020', '03/07/2020', '02/07/2020',\n       '01/07/2020', '30/06/2020', '29/06/2020', '28/06/2020',\n       '27/06/2020', '26/06/2020', '25/06/2020', '24/06/2020',\n       '23/06/2020', '22/06/2020', '21/06/2020', '20/06/2020',\n       '19/06/2020', '18/06/2020', '17/06/2020', '16/06/2020',\n       '15/06/2020', '14/06/2020', '13/06/2020', '12/06/2020',\n       '11/06/2020', '10/06/2020', '09/06/2020', '08/06/2020',\n       '07/06/2020', '06/06/2020', '05/06/2020', '04/06/2020',\n       '03/06/2020', '02/06/2020', '01/06/2020', '31/05/2020',\n       '30/05/2020', '29/05/2020', '28/05/2020', '27/05/2020',\n       '26/05/2020', '25/05/2020', '24/05/2020', '23/05/2020',\n       '22/05/2020', '21/05/2020', '20/05/2020', '19/05/2020',\n       '18/05/2020', '17/05/2020', '16/05/2020', '15/05/2020',\n       '14/05/2020', '13/05/2020', '12/05/2020', '11/05/2020',\n       '10/05/2020', '09/05/2020', '08/05/2020', '07/05/2020',\n       '06/05/2020', '05/05/2020', '04/05/2020', '03/05/2020',\n       '02/05/2020', '01/05/2020', '30/04/2020', '29/04/2020',\n       '28/04/2020', '27/04/2020', '26/04/2020', '25/04/2020',\n       '24/04/2020', '23/04/2020', '22/04/2020', '21/04/2020',\n       '20/04/2020', '19/04/2020', '18/04/2020', '17/04/2020',\n       '16/04/2020', '15/04/2020', '14/04/2020', '13/04/2020',\n       '12/04/2020', '11/04/2020', '10/04/2020', '09/04/2020',\n       '08/04/2020', '07/04/2020', '06/04/2020', '05/04/2020',\n       '04/04/2020', '03/04/2020', '02/04/2020', '01/04/2020',\n       '31/03/2020', '30/03/2020', '29/03/2020', '28/03/2020',\n       '27/03/2020', '26/03/2020', '25/03/2020', '24/03/2020',\n       '23/03/2020', '22/03/2020', '21/03/2020', '20/03/2020',\n       '19/03/2020', '18/03/2020', '17/03/2020', '16/03/2020',\n       '15/03/2020', '11/03/2020', '08/03/2020', '02/03/2020',\n       '01/03/2020', '29/02/2020', '28/02/2020', '27/02/2020',\n       '26/02/2020', '25/02/2020', '24/02/2020', '23/02/2020',\n       '22/02/2020', '21/02/2020', '20/02/2020', '19/02/2020',\n       '18/02/2020', '17/02/2020', '16/02/2020', '15/02/2020',\n       '14/02/2020', '13/02/2020', '12/02/2020', '11/02/2020',\n       '10/02/2020', '09/02/2020', '08/02/2020', '07/02/2020',\n       '06/02/2020', '05/02/2020', '04/02/2020', '03/02/2020',\n       '02/02/2020', '01/02/2020', '31/01/2020', '30/01/2020',\n       '29/01/2020', '28/01/2020', '27/01/2020', '26/01/2020',\n       '25/01/2020', '24/01/2020', '23/01/2020', '22/01/2020',\n       '21/01/2020', '20/01/2020', '19/01/2020', '18/01/2020',\n       '17/01/2020', '16/01/2020', '15/01/2020', '14/01/2020',\n       '13/01/2020', '12/01/2020', '11/01/2020', '10/01/2020',\n       '09/01/2020', '08/01/2020', '07/01/2020', '06/01/2020',\n       '05/01/2020', '04/01/2020', '03/01/2020', '02/01/2020',\n       '01/01/2020', '31/12/2019', '14/03/2020', '13/03/2020',\n       '12/03/2020', '10/03/2020', '09/03/2020', '06/03/2020',\n       '05/03/2020', '04/03/2020', '03/03/2020', '07/03/2020'],\n      dtype=object)"
     },
     "execution_count": 126,
     "metadata": {},
     "output_type": "execute_result"
    }
   ],
   "source": [
    "covid_dataset.dateRep.unique()"
   ],
   "metadata": {
    "collapsed": false,
    "pycharm": {
     "name": "#%%\n"
    }
   }
  },
  {
   "cell_type": "markdown",
   "source": [
    "### value_counts()\n",
    "To see a list of unique values and how often they occur in the dataset, we can use the value_counts() method:\n",
    "\n",
    "## Maps\n",
    "In data science we often have a need for creating new representations from existing data, or for transforming data from the format it is in now to the format that we want it to be in later. Maps are what handle this work, making them extremely important for getting your work done!\n",
    "\n",
    "There are two mapping methods that you will use often.\n",
    "\n",
    "### map()\n",
    "suppose that we wanted to remean the deaths to 0. We can do this as follows:"
   ],
   "metadata": {
    "collapsed": false
   }
  },
  {
   "cell_type": "code",
   "execution_count": 128,
   "outputs": [
    {
     "data": {
      "text/plain": "0       -19.578646\n1       -21.578646\n2       -21.578646\n3       -20.578646\n4       -18.578646\n           ...    \n41205   -21.578646\n41206   -20.578646\n41207   -21.578646\n41208   -21.578646\n41209   -21.578646\nName: deaths, Length: 41210, dtype: float64"
     },
     "execution_count": 128,
     "metadata": {},
     "output_type": "execute_result"
    }
   ],
   "source": [
    "deaths_mean = covid_dataset.deaths.mean()\n",
    "covid_dataset.deaths.map(lambda p: p - deaths_mean)"
   ],
   "metadata": {
    "collapsed": false,
    "pycharm": {
     "name": "#%%\n"
    }
   }
  },
  {
   "cell_type": "markdown",
   "source": [
    "The function you pass to map() should expect a single value from the Series (a point value, in the above example), and return a transformed version of that value. map() returns a new Series where all the values have been transformed by your function.\n",
    "\n",
    "### apply()\n",
    " is the equivalent method if we want to transform a whole DataFrame by calling a custom method on each row."
   ],
   "metadata": {
    "collapsed": false
   }
  },
  {
   "cell_type": "code",
   "execution_count": 129,
   "outputs": [
    {
     "data": {
      "text/plain": "          dateRep  day  month  year  cases     deaths countriesAndTerritories  \\\n0      07/09/2020    7      9  2020     74 -19.578646             Afghanistan   \n1      06/09/2020    6      9  2020     20 -21.578646             Afghanistan   \n2      05/09/2020    5      9  2020     16 -21.578646             Afghanistan   \n3      04/09/2020    4      9  2020     45 -20.578646             Afghanistan   \n4      03/09/2020    3      9  2020     38 -18.578646             Afghanistan   \n...           ...  ...    ...   ...    ...        ...                     ...   \n41205  25/03/2020   25      3  2020      0 -21.578646                Zimbabwe   \n41206  24/03/2020   24      3  2020      0 -20.578646                Zimbabwe   \n41207  23/03/2020   23      3  2020      0 -21.578646                Zimbabwe   \n41208  22/03/2020   22      3  2020      1 -21.578646                Zimbabwe   \n41209  21/03/2020   21      3  2020      1 -21.578646                Zimbabwe   \n\n      geoId countryterritoryCode  popData2019 continentExp  \\\n0        AF                  AFG   38041757.0         Asia   \n1        AF                  AFG   38041757.0         Asia   \n2        AF                  AFG   38041757.0         Asia   \n3        AF                  AFG   38041757.0         Asia   \n4        AF                  AFG   38041757.0         Asia   \n...     ...                  ...          ...          ...   \n41205    ZW                  ZWE   14645473.0       Africa   \n41206    ZW                  ZWE   14645473.0       Africa   \n41207    ZW                  ZWE   14645473.0       Africa   \n41208    ZW                  ZWE   14645473.0       Africa   \n41209    ZW                  ZWE   14645473.0       Africa   \n\n       Cumulative_number_for_14_days_of_COVID-19_cases_per_100000  \n0                                               1.048847           \n1                                               0.854324           \n2                                               1.077763           \n3                                               1.135594           \n4                                               1.272286           \n...                                                  ...           \n41205                                                NaN           \n41206                                                NaN           \n41207                                                NaN           \n41208                                                NaN           \n41209                                                NaN           \n\n[41210 rows x 12 columns]",
      "text/html": "<div>\n<style scoped>\n    .dataframe tbody tr th:only-of-type {\n        vertical-align: middle;\n    }\n\n    .dataframe tbody tr th {\n        vertical-align: top;\n    }\n\n    .dataframe thead th {\n        text-align: right;\n    }\n</style>\n<table border=\"1\" class=\"dataframe\">\n  <thead>\n    <tr style=\"text-align: right;\">\n      <th></th>\n      <th>dateRep</th>\n      <th>day</th>\n      <th>month</th>\n      <th>year</th>\n      <th>cases</th>\n      <th>deaths</th>\n      <th>countriesAndTerritories</th>\n      <th>geoId</th>\n      <th>countryterritoryCode</th>\n      <th>popData2019</th>\n      <th>continentExp</th>\n      <th>Cumulative_number_for_14_days_of_COVID-19_cases_per_100000</th>\n    </tr>\n  </thead>\n  <tbody>\n    <tr>\n      <th>0</th>\n      <td>07/09/2020</td>\n      <td>7</td>\n      <td>9</td>\n      <td>2020</td>\n      <td>74</td>\n      <td>-19.578646</td>\n      <td>Afghanistan</td>\n      <td>AF</td>\n      <td>AFG</td>\n      <td>38041757.0</td>\n      <td>Asia</td>\n      <td>1.048847</td>\n    </tr>\n    <tr>\n      <th>1</th>\n      <td>06/09/2020</td>\n      <td>6</td>\n      <td>9</td>\n      <td>2020</td>\n      <td>20</td>\n      <td>-21.578646</td>\n      <td>Afghanistan</td>\n      <td>AF</td>\n      <td>AFG</td>\n      <td>38041757.0</td>\n      <td>Asia</td>\n      <td>0.854324</td>\n    </tr>\n    <tr>\n      <th>2</th>\n      <td>05/09/2020</td>\n      <td>5</td>\n      <td>9</td>\n      <td>2020</td>\n      <td>16</td>\n      <td>-21.578646</td>\n      <td>Afghanistan</td>\n      <td>AF</td>\n      <td>AFG</td>\n      <td>38041757.0</td>\n      <td>Asia</td>\n      <td>1.077763</td>\n    </tr>\n    <tr>\n      <th>3</th>\n      <td>04/09/2020</td>\n      <td>4</td>\n      <td>9</td>\n      <td>2020</td>\n      <td>45</td>\n      <td>-20.578646</td>\n      <td>Afghanistan</td>\n      <td>AF</td>\n      <td>AFG</td>\n      <td>38041757.0</td>\n      <td>Asia</td>\n      <td>1.135594</td>\n    </tr>\n    <tr>\n      <th>4</th>\n      <td>03/09/2020</td>\n      <td>3</td>\n      <td>9</td>\n      <td>2020</td>\n      <td>38</td>\n      <td>-18.578646</td>\n      <td>Afghanistan</td>\n      <td>AF</td>\n      <td>AFG</td>\n      <td>38041757.0</td>\n      <td>Asia</td>\n      <td>1.272286</td>\n    </tr>\n    <tr>\n      <th>...</th>\n      <td>...</td>\n      <td>...</td>\n      <td>...</td>\n      <td>...</td>\n      <td>...</td>\n      <td>...</td>\n      <td>...</td>\n      <td>...</td>\n      <td>...</td>\n      <td>...</td>\n      <td>...</td>\n      <td>...</td>\n    </tr>\n    <tr>\n      <th>41205</th>\n      <td>25/03/2020</td>\n      <td>25</td>\n      <td>3</td>\n      <td>2020</td>\n      <td>0</td>\n      <td>-21.578646</td>\n      <td>Zimbabwe</td>\n      <td>ZW</td>\n      <td>ZWE</td>\n      <td>14645473.0</td>\n      <td>Africa</td>\n      <td>NaN</td>\n    </tr>\n    <tr>\n      <th>41206</th>\n      <td>24/03/2020</td>\n      <td>24</td>\n      <td>3</td>\n      <td>2020</td>\n      <td>0</td>\n      <td>-20.578646</td>\n      <td>Zimbabwe</td>\n      <td>ZW</td>\n      <td>ZWE</td>\n      <td>14645473.0</td>\n      <td>Africa</td>\n      <td>NaN</td>\n    </tr>\n    <tr>\n      <th>41207</th>\n      <td>23/03/2020</td>\n      <td>23</td>\n      <td>3</td>\n      <td>2020</td>\n      <td>0</td>\n      <td>-21.578646</td>\n      <td>Zimbabwe</td>\n      <td>ZW</td>\n      <td>ZWE</td>\n      <td>14645473.0</td>\n      <td>Africa</td>\n      <td>NaN</td>\n    </tr>\n    <tr>\n      <th>41208</th>\n      <td>22/03/2020</td>\n      <td>22</td>\n      <td>3</td>\n      <td>2020</td>\n      <td>1</td>\n      <td>-21.578646</td>\n      <td>Zimbabwe</td>\n      <td>ZW</td>\n      <td>ZWE</td>\n      <td>14645473.0</td>\n      <td>Africa</td>\n      <td>NaN</td>\n    </tr>\n    <tr>\n      <th>41209</th>\n      <td>21/03/2020</td>\n      <td>21</td>\n      <td>3</td>\n      <td>2020</td>\n      <td>1</td>\n      <td>-21.578646</td>\n      <td>Zimbabwe</td>\n      <td>ZW</td>\n      <td>ZWE</td>\n      <td>14645473.0</td>\n      <td>Africa</td>\n      <td>NaN</td>\n    </tr>\n  </tbody>\n</table>\n<p>41210 rows × 12 columns</p>\n</div>"
     },
     "execution_count": 129,
     "metadata": {},
     "output_type": "execute_result"
    }
   ],
   "source": [
    "def remean(row):\n",
    "    row.deaths = row.deaths - deaths_mean\n",
    "    return row\n",
    "covid_dataset.apply(remean, axis='columns')"
   ],
   "metadata": {
    "collapsed": false,
    "pycharm": {
     "name": "#%%\n"
    }
   }
  },
  {
   "cell_type": "markdown",
   "source": [
    "In this code we are performing an operation between a lot of values on the left-hand side (everything in the Series) and a single value on the right-hand side (the mean value). Pandas looks at this expression and figures out that we must mean to subtract that mean value from every value in the dataset.\n",
    "\n",
    "Pandas will also understand what to do if we perform these operations between Series of equal length. For example, an easy way of combining location and cases information in the dataset would be to do the following:"
   ],
   "metadata": {
    "collapsed": false,
    "pycharm": {
     "name": "#%% md\n"
    }
   }
  },
  {
   "cell_type": "code",
   "execution_count": 137,
   "outputs": [
    {
     "data": {
      "text/plain": "0        Afghanistan - 0        74\\n1        20\\n2     ...\n1        Afghanistan - 0        74\\n1        20\\n2     ...\n2        Afghanistan - 0        74\\n1        20\\n2     ...\n3        Afghanistan - 0        74\\n1        20\\n2     ...\n4        Afghanistan - 0        74\\n1        20\\n2     ...\n                               ...                        \n41205    Zimbabwe - 0        74\\n1        20\\n2        ...\n41206    Zimbabwe - 0        74\\n1        20\\n2        ...\n41207    Zimbabwe - 0        74\\n1        20\\n2        ...\n41208    Zimbabwe - 0        74\\n1        20\\n2        ...\n41209    Zimbabwe - 0        74\\n1        20\\n2        ...\nName: location, Length: 41210, dtype: object"
     },
     "execution_count": 137,
     "metadata": {},
     "output_type": "execute_result"
    }
   ],
   "source": [
    "covid_dataset.location + \" - \" + covid_dataset.cases"
   ],
   "metadata": {
    "collapsed": false,
    "pycharm": {
     "name": "#%%\n"
    }
   }
  },
  {
   "cell_type": "markdown",
   "source": [
    "## Combining\n",
    "When performing operations on a dataset, we will sometimes need to combine different DataFrames and/or Series in non-trivial ways.\n",
    " Pandas has three core methods for doing this. In order of increasing complexity, these are concat(), join(), and merge().\n",
    " Most of what merge() can do can also be done more simply with join(), so we will omit it and focus on the first two functions here.\n",
    "\n",
    "<p align=\"center\">\n",
    "   <img src=\"https://pandas.pydata.org/docs/_images/08_concat_row.svg\"/>\n",
    "</p>\n",
    "\n",
    "### Concat\n",
    "The simplest combining method is concat().\n",
    " Given a list of elements, this function will smush those elements together along an axis.\n",
    "\n",
    "Along rows:"
   ],
   "metadata": {
    "collapsed": false,
    "pycharm": {
     "name": "#%% md\n"
    }
   }
  },
  {
   "cell_type": "code",
   "execution_count": 16,
   "outputs": [
    {
     "data": {
      "text/plain": "      A    B    C    D\n0    A0   B0   C0   D0\n1    A1   B1   C1   D1\n2    A2   B2   C2   D2\n3    A3   B3   C3   D3\n4    A4   B4   C4   D4\n5    A5   B5   C5   D5\n6    A6   B6   C6   D6\n7    A7   B7   C7   D7\n8    A8   B8   C8   D8\n9    A9   B9   C9   D9\n10  A10  B10  C10  D10\n11  A11  B11  C11  D11",
      "text/html": "<div>\n<style scoped>\n    .dataframe tbody tr th:only-of-type {\n        vertical-align: middle;\n    }\n\n    .dataframe tbody tr th {\n        vertical-align: top;\n    }\n\n    .dataframe thead th {\n        text-align: right;\n    }\n</style>\n<table border=\"1\" class=\"dataframe\">\n  <thead>\n    <tr style=\"text-align: right;\">\n      <th></th>\n      <th>A</th>\n      <th>B</th>\n      <th>C</th>\n      <th>D</th>\n    </tr>\n  </thead>\n  <tbody>\n    <tr>\n      <th>0</th>\n      <td>A0</td>\n      <td>B0</td>\n      <td>C0</td>\n      <td>D0</td>\n    </tr>\n    <tr>\n      <th>1</th>\n      <td>A1</td>\n      <td>B1</td>\n      <td>C1</td>\n      <td>D1</td>\n    </tr>\n    <tr>\n      <th>2</th>\n      <td>A2</td>\n      <td>B2</td>\n      <td>C2</td>\n      <td>D2</td>\n    </tr>\n    <tr>\n      <th>3</th>\n      <td>A3</td>\n      <td>B3</td>\n      <td>C3</td>\n      <td>D3</td>\n    </tr>\n    <tr>\n      <th>4</th>\n      <td>A4</td>\n      <td>B4</td>\n      <td>C4</td>\n      <td>D4</td>\n    </tr>\n    <tr>\n      <th>5</th>\n      <td>A5</td>\n      <td>B5</td>\n      <td>C5</td>\n      <td>D5</td>\n    </tr>\n    <tr>\n      <th>6</th>\n      <td>A6</td>\n      <td>B6</td>\n      <td>C6</td>\n      <td>D6</td>\n    </tr>\n    <tr>\n      <th>7</th>\n      <td>A7</td>\n      <td>B7</td>\n      <td>C7</td>\n      <td>D7</td>\n    </tr>\n    <tr>\n      <th>8</th>\n      <td>A8</td>\n      <td>B8</td>\n      <td>C8</td>\n      <td>D8</td>\n    </tr>\n    <tr>\n      <th>9</th>\n      <td>A9</td>\n      <td>B9</td>\n      <td>C9</td>\n      <td>D9</td>\n    </tr>\n    <tr>\n      <th>10</th>\n      <td>A10</td>\n      <td>B10</td>\n      <td>C10</td>\n      <td>D10</td>\n    </tr>\n    <tr>\n      <th>11</th>\n      <td>A11</td>\n      <td>B11</td>\n      <td>C11</td>\n      <td>D11</td>\n    </tr>\n  </tbody>\n</table>\n</div>"
     },
     "execution_count": 16,
     "metadata": {},
     "output_type": "execute_result"
    }
   ],
   "source": [
    "df1 = pd.DataFrame({'A': ['A0', 'A1', 'A2', 'A3'],\n",
    "                    'B': ['B0', 'B1', 'B2', 'B3'],\n",
    "                    'C': ['C0', 'C1', 'C2', 'C3'],\n",
    "                    'D': ['D0', 'D1', 'D2', 'D3']},\n",
    "                   index=[0, 1, 2, 3])\n",
    "df2 = pd.DataFrame({'A': ['A4', 'A5', 'A6', 'A7'],\n",
    "                    'B': ['B4', 'B5', 'B6', 'B7'],\n",
    "                    'C': ['C4', 'C5', 'C6', 'C7'],\n",
    "                    'D': ['D4', 'D5', 'D6', 'D7']},\n",
    "                   index=[4, 5, 6, 7])\n",
    "df3 = pd.DataFrame({'A': ['A8', 'A9', 'A10', 'A11'],\n",
    "                    'B': ['B8', 'B9', 'B10', 'B11'],\n",
    "                    'C': ['C8', 'C9', 'C10', 'C11'],\n",
    "                    'D': ['D8', 'D9', 'D10', 'D11']},\n",
    "                   index=[8, 9, 10, 11])\n",
    "pd.concat([df1, df2, df3], axis='rows')"
   ],
   "metadata": {
    "collapsed": false,
    "pycharm": {
     "name": "#%%\n"
    }
   }
  },
  {
   "cell_type": "markdown",
   "source": [],
   "metadata": {
    "collapsed": false
   }
  },
  {
   "cell_type": "markdown",
   "source": [
    "Along columns: ???"
   ],
   "metadata": {
    "collapsed": false,
    "pycharm": {
     "name": "#%% md\n"
    }
   }
  },
  {
   "cell_type": "code",
   "execution_count": 6,
   "outputs": [
    {
     "data": {
      "text/plain": "      A    B    C    D    A    B    C    D    A    B    C    D\n0    A0   B0   C0   D0  NaN  NaN  NaN  NaN  NaN  NaN  NaN  NaN\n1    A1   B1   C1   D1  NaN  NaN  NaN  NaN  NaN  NaN  NaN  NaN\n2    A2   B2   C2   D2  NaN  NaN  NaN  NaN  NaN  NaN  NaN  NaN\n3    A3   B3   C3   D3  NaN  NaN  NaN  NaN  NaN  NaN  NaN  NaN\n4   NaN  NaN  NaN  NaN   A4   B4   C4   D4  NaN  NaN  NaN  NaN\n5   NaN  NaN  NaN  NaN   A5   B5   C5   D5  NaN  NaN  NaN  NaN\n6   NaN  NaN  NaN  NaN   A6   B6   C6   D6  NaN  NaN  NaN  NaN\n7   NaN  NaN  NaN  NaN   A7   B7   C7   D7  NaN  NaN  NaN  NaN\n8   NaN  NaN  NaN  NaN  NaN  NaN  NaN  NaN   A8   B8   C8   D8\n9   NaN  NaN  NaN  NaN  NaN  NaN  NaN  NaN   A9   B9   C9   D9\n10  NaN  NaN  NaN  NaN  NaN  NaN  NaN  NaN  A10  B10  C10  D10\n11  NaN  NaN  NaN  NaN  NaN  NaN  NaN  NaN  A11  B11  C11  D11",
      "text/html": "<div>\n<style scoped>\n    .dataframe tbody tr th:only-of-type {\n        vertical-align: middle;\n    }\n\n    .dataframe tbody tr th {\n        vertical-align: top;\n    }\n\n    .dataframe thead th {\n        text-align: right;\n    }\n</style>\n<table border=\"1\" class=\"dataframe\">\n  <thead>\n    <tr style=\"text-align: right;\">\n      <th></th>\n      <th>A</th>\n      <th>B</th>\n      <th>C</th>\n      <th>D</th>\n      <th>A</th>\n      <th>B</th>\n      <th>C</th>\n      <th>D</th>\n      <th>A</th>\n      <th>B</th>\n      <th>C</th>\n      <th>D</th>\n    </tr>\n  </thead>\n  <tbody>\n    <tr>\n      <th>0</th>\n      <td>A0</td>\n      <td>B0</td>\n      <td>C0</td>\n      <td>D0</td>\n      <td>NaN</td>\n      <td>NaN</td>\n      <td>NaN</td>\n      <td>NaN</td>\n      <td>NaN</td>\n      <td>NaN</td>\n      <td>NaN</td>\n      <td>NaN</td>\n    </tr>\n    <tr>\n      <th>1</th>\n      <td>A1</td>\n      <td>B1</td>\n      <td>C1</td>\n      <td>D1</td>\n      <td>NaN</td>\n      <td>NaN</td>\n      <td>NaN</td>\n      <td>NaN</td>\n      <td>NaN</td>\n      <td>NaN</td>\n      <td>NaN</td>\n      <td>NaN</td>\n    </tr>\n    <tr>\n      <th>2</th>\n      <td>A2</td>\n      <td>B2</td>\n      <td>C2</td>\n      <td>D2</td>\n      <td>NaN</td>\n      <td>NaN</td>\n      <td>NaN</td>\n      <td>NaN</td>\n      <td>NaN</td>\n      <td>NaN</td>\n      <td>NaN</td>\n      <td>NaN</td>\n    </tr>\n    <tr>\n      <th>3</th>\n      <td>A3</td>\n      <td>B3</td>\n      <td>C3</td>\n      <td>D3</td>\n      <td>NaN</td>\n      <td>NaN</td>\n      <td>NaN</td>\n      <td>NaN</td>\n      <td>NaN</td>\n      <td>NaN</td>\n      <td>NaN</td>\n      <td>NaN</td>\n    </tr>\n    <tr>\n      <th>4</th>\n      <td>NaN</td>\n      <td>NaN</td>\n      <td>NaN</td>\n      <td>NaN</td>\n      <td>A4</td>\n      <td>B4</td>\n      <td>C4</td>\n      <td>D4</td>\n      <td>NaN</td>\n      <td>NaN</td>\n      <td>NaN</td>\n      <td>NaN</td>\n    </tr>\n    <tr>\n      <th>5</th>\n      <td>NaN</td>\n      <td>NaN</td>\n      <td>NaN</td>\n      <td>NaN</td>\n      <td>A5</td>\n      <td>B5</td>\n      <td>C5</td>\n      <td>D5</td>\n      <td>NaN</td>\n      <td>NaN</td>\n      <td>NaN</td>\n      <td>NaN</td>\n    </tr>\n    <tr>\n      <th>6</th>\n      <td>NaN</td>\n      <td>NaN</td>\n      <td>NaN</td>\n      <td>NaN</td>\n      <td>A6</td>\n      <td>B6</td>\n      <td>C6</td>\n      <td>D6</td>\n      <td>NaN</td>\n      <td>NaN</td>\n      <td>NaN</td>\n      <td>NaN</td>\n    </tr>\n    <tr>\n      <th>7</th>\n      <td>NaN</td>\n      <td>NaN</td>\n      <td>NaN</td>\n      <td>NaN</td>\n      <td>A7</td>\n      <td>B7</td>\n      <td>C7</td>\n      <td>D7</td>\n      <td>NaN</td>\n      <td>NaN</td>\n      <td>NaN</td>\n      <td>NaN</td>\n    </tr>\n    <tr>\n      <th>8</th>\n      <td>NaN</td>\n      <td>NaN</td>\n      <td>NaN</td>\n      <td>NaN</td>\n      <td>NaN</td>\n      <td>NaN</td>\n      <td>NaN</td>\n      <td>NaN</td>\n      <td>A8</td>\n      <td>B8</td>\n      <td>C8</td>\n      <td>D8</td>\n    </tr>\n    <tr>\n      <th>9</th>\n      <td>NaN</td>\n      <td>NaN</td>\n      <td>NaN</td>\n      <td>NaN</td>\n      <td>NaN</td>\n      <td>NaN</td>\n      <td>NaN</td>\n      <td>NaN</td>\n      <td>A9</td>\n      <td>B9</td>\n      <td>C9</td>\n      <td>D9</td>\n    </tr>\n    <tr>\n      <th>10</th>\n      <td>NaN</td>\n      <td>NaN</td>\n      <td>NaN</td>\n      <td>NaN</td>\n      <td>NaN</td>\n      <td>NaN</td>\n      <td>NaN</td>\n      <td>NaN</td>\n      <td>A10</td>\n      <td>B10</td>\n      <td>C10</td>\n      <td>D10</td>\n    </tr>\n    <tr>\n      <th>11</th>\n      <td>NaN</td>\n      <td>NaN</td>\n      <td>NaN</td>\n      <td>NaN</td>\n      <td>NaN</td>\n      <td>NaN</td>\n      <td>NaN</td>\n      <td>NaN</td>\n      <td>A11</td>\n      <td>B11</td>\n      <td>C11</td>\n      <td>D11</td>\n    </tr>\n  </tbody>\n</table>\n</div>"
     },
     "execution_count": 6,
     "metadata": {},
     "output_type": "execute_result"
    }
   ],
   "source": [
    "pd.concat([df1, df2, df3], axis='columns')"
   ],
   "metadata": {
    "collapsed": false,
    "pycharm": {
     "name": "#%%\n"
    }
   }
  },
  {
   "cell_type": "markdown",
   "source": [
    "mind the indexes"
   ],
   "metadata": {
    "collapsed": false
   }
  },
  {
   "cell_type": "code",
   "execution_count": 17,
   "outputs": [
    {
     "data": {
      "text/plain": "    A   B   C   D   A   B   C   D\n0  A0  B0  C0  D0  A4  B4  C4  D4\n1  A1  B1  C1  D1  A5  B5  C5  D5\n2  A2  B2  C2  D2  A6  B6  C6  D6\n3  A3  B3  C3  D3  A7  B7  C7  D7",
      "text/html": "<div>\n<style scoped>\n    .dataframe tbody tr th:only-of-type {\n        vertical-align: middle;\n    }\n\n    .dataframe tbody tr th {\n        vertical-align: top;\n    }\n\n    .dataframe thead th {\n        text-align: right;\n    }\n</style>\n<table border=\"1\" class=\"dataframe\">\n  <thead>\n    <tr style=\"text-align: right;\">\n      <th></th>\n      <th>A</th>\n      <th>B</th>\n      <th>C</th>\n      <th>D</th>\n      <th>A</th>\n      <th>B</th>\n      <th>C</th>\n      <th>D</th>\n    </tr>\n  </thead>\n  <tbody>\n    <tr>\n      <th>0</th>\n      <td>A0</td>\n      <td>B0</td>\n      <td>C0</td>\n      <td>D0</td>\n      <td>A4</td>\n      <td>B4</td>\n      <td>C4</td>\n      <td>D4</td>\n    </tr>\n    <tr>\n      <th>1</th>\n      <td>A1</td>\n      <td>B1</td>\n      <td>C1</td>\n      <td>D1</td>\n      <td>A5</td>\n      <td>B5</td>\n      <td>C5</td>\n      <td>D5</td>\n    </tr>\n    <tr>\n      <th>2</th>\n      <td>A2</td>\n      <td>B2</td>\n      <td>C2</td>\n      <td>D2</td>\n      <td>A6</td>\n      <td>B6</td>\n      <td>C6</td>\n      <td>D6</td>\n    </tr>\n    <tr>\n      <th>3</th>\n      <td>A3</td>\n      <td>B3</td>\n      <td>C3</td>\n      <td>D3</td>\n      <td>A7</td>\n      <td>B7</td>\n      <td>C7</td>\n      <td>D7</td>\n    </tr>\n  </tbody>\n</table>\n</div>"
     },
     "execution_count": 17,
     "metadata": {},
     "output_type": "execute_result"
    }
   ],
   "source": [
    "df2.index = df1.index\n",
    "pd.concat([df1, df2], axis='columns')"
   ],
   "metadata": {
    "collapsed": false,
    "pycharm": {
     "name": "#%%\n"
    }
   }
  },
  {
   "cell_type": "markdown",
   "source": [
    "### Join\n",
    "The middlemost combiner in terms of complexity is join().\n",
    " join() lets you combine different DataFrame objects which have an index in common."
   ],
   "metadata": {
    "collapsed": false
   }
  },
  {
   "cell_type": "code",
   "execution_count": 239,
   "outputs": [
    {
     "data": {
      "text/plain": "   B_from_df1 C_from_df1 D_from_df1 B_from_df2 C_from_df2 D_from_df2\nA                                                                   \nA0         B0         C0         D0         B4         C4         D4\nA1         B1         C1         D1         B5         C5         D5\nA2         B2         C2         D2         B6         C6         D6\nA3         B3         C3         D3         B7         C7         D7",
      "text/html": "<div>\n<style scoped>\n    .dataframe tbody tr th:only-of-type {\n        vertical-align: middle;\n    }\n\n    .dataframe tbody tr th {\n        vertical-align: top;\n    }\n\n    .dataframe thead th {\n        text-align: right;\n    }\n</style>\n<table border=\"1\" class=\"dataframe\">\n  <thead>\n    <tr style=\"text-align: right;\">\n      <th></th>\n      <th>B_from_df1</th>\n      <th>C_from_df1</th>\n      <th>D_from_df1</th>\n      <th>B_from_df2</th>\n      <th>C_from_df2</th>\n      <th>D_from_df2</th>\n    </tr>\n    <tr>\n      <th>A</th>\n      <th></th>\n      <th></th>\n      <th></th>\n      <th></th>\n      <th></th>\n      <th></th>\n    </tr>\n  </thead>\n  <tbody>\n    <tr>\n      <th>A0</th>\n      <td>B0</td>\n      <td>C0</td>\n      <td>D0</td>\n      <td>B4</td>\n      <td>C4</td>\n      <td>D4</td>\n    </tr>\n    <tr>\n      <th>A1</th>\n      <td>B1</td>\n      <td>C1</td>\n      <td>D1</td>\n      <td>B5</td>\n      <td>C5</td>\n      <td>D5</td>\n    </tr>\n    <tr>\n      <th>A2</th>\n      <td>B2</td>\n      <td>C2</td>\n      <td>D2</td>\n      <td>B6</td>\n      <td>C6</td>\n      <td>D6</td>\n    </tr>\n    <tr>\n      <th>A3</th>\n      <td>B3</td>\n      <td>C3</td>\n      <td>D3</td>\n      <td>B7</td>\n      <td>C7</td>\n      <td>D7</td>\n    </tr>\n  </tbody>\n</table>\n</div>"
     },
     "execution_count": 239,
     "metadata": {},
     "output_type": "execute_result"
    }
   ],
   "source": [
    "df2.A = df1.A # Making a common column\n",
    "left = df1.set_index(['A'])\n",
    "right = df2.set_index(['A'])\n",
    "left.join(right, lsuffix='_from_df1', rsuffix='_from_df2')"
   ],
   "metadata": {
    "collapsed": false,
    "pycharm": {
     "name": "#%%\n"
    }
   }
  }
 ],
 "metadata": {
  "kernelspec": {
   "display_name": "Python 3",
   "language": "python",
   "name": "python3"
  },
  "language_info": {
   "codemirror_mode": {
    "name": "ipython",
    "version": 2
   },
   "file_extension": ".py",
   "mimetype": "text/x-python",
   "name": "python",
   "nbconvert_exporter": "python",
   "pygments_lexer": "ipython2",
   "version": "2.7.6"
  }
 },
 "nbformat": 4,
 "nbformat_minor": 0
}